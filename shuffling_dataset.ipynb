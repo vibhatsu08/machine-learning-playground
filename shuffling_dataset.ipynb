{
 "cells": [
  {
   "cell_type": "code",
   "execution_count": 3,
   "id": "988eed4c",
   "metadata": {},
   "outputs": [],
   "source": [
    "import numpy as np\n",
    "import pandas as pd\n",
    "import matplotlib.pyplot as plt\n",
    "import seaborn as sns\n",
    "from sklearn import (\n",
    "    datasets, metrics, model_selection as skms, linear_model\n",
    ")"
   ]
  },
  {
   "cell_type": "code",
   "execution_count": 4,
   "id": "c328bb99",
   "metadata": {},
   "outputs": [],
   "source": [
    "dataset = datasets.load_diabetes()"
   ]
  },
  {
   "cell_type": "code",
   "execution_count": 5,
   "id": "f650cbaf",
   "metadata": {},
   "outputs": [],
   "source": [
    "model = linear_model.LinearRegression()"
   ]
  },
  {
   "cell_type": "code",
   "execution_count": 6,
   "id": "4bc40da6",
   "metadata": {},
   "outputs": [
    {
     "data": {
      "text/html": [
       "<div>\n",
       "<style scoped>\n",
       "    .dataframe tbody tr th:only-of-type {\n",
       "        vertical-align: middle;\n",
       "    }\n",
       "\n",
       "    .dataframe tbody tr th {\n",
       "        vertical-align: top;\n",
       "    }\n",
       "\n",
       "    .dataframe thead th {\n",
       "        text-align: right;\n",
       "    }\n",
       "</style>\n",
       "<table border=\"1\" class=\"dataframe\">\n",
       "  <thead>\n",
       "    <tr style=\"text-align: right;\">\n",
       "      <th>Repeat</th>\n",
       "      <th>0</th>\n",
       "      <th>1</th>\n",
       "      <th>2</th>\n",
       "      <th>3</th>\n",
       "      <th>4</th>\n",
       "      <th>5</th>\n",
       "      <th>6</th>\n",
       "      <th>7</th>\n",
       "      <th>8</th>\n",
       "      <th>9</th>\n",
       "    </tr>\n",
       "  </thead>\n",
       "  <tbody>\n",
       "    <tr>\n",
       "      <th>RMSE</th>\n",
       "      <td>57.652184</td>\n",
       "      <td>53.516893</td>\n",
       "      <td>49.746739</td>\n",
       "      <td>56.409268</td>\n",
       "      <td>61.058175</td>\n",
       "      <td>56.698312</td>\n",
       "      <td>54.535504</td>\n",
       "      <td>56.177124</td>\n",
       "      <td>56.585064</td>\n",
       "      <td>54.340491</td>\n",
       "    </tr>\n",
       "  </tbody>\n",
       "</table>\n",
       "</div>"
      ],
      "text/plain": [
       "Repeat          0          1          2          3          4          5  \\\n",
       "RMSE    57.652184  53.516893  49.746739  56.409268  61.058175  56.698312   \n",
       "\n",
       "Repeat          6          7          8          9  \n",
       "RMSE    54.535504  56.177124  56.585064  54.340491  "
      ]
     },
     "execution_count": 6,
     "metadata": {},
     "output_type": "execute_result"
    }
   ],
   "source": [
    "# shuffle split\n",
    "ss = skms.ShuffleSplit(test_size=0.25)\n",
    "scores = skms.cross_val_score(model, dataset.data, dataset.target, cv=ss, scoring=\"neg_mean_squared_error\")\n",
    "scores = pd.Series(np.sqrt(-scores))\n",
    "df = pd.DataFrame({\"RMSE\": scores})\n",
    "df.index.name = \"Repeat\"\n",
    "df.T"
   ]
  },
  {
   "cell_type": "code",
   "execution_count": 7,
   "id": "4ae7e3b9",
   "metadata": {},
   "outputs": [
    {
     "data": {
      "text/html": [
       "<div>\n",
       "<style scoped>\n",
       "    .dataframe tbody tr th:only-of-type {\n",
       "        vertical-align: middle;\n",
       "    }\n",
       "\n",
       "    .dataframe tbody tr th {\n",
       "        vertical-align: top;\n",
       "    }\n",
       "\n",
       "    .dataframe thead th {\n",
       "        text-align: right;\n",
       "    }\n",
       "</style>\n",
       "<table border=\"1\" class=\"dataframe\">\n",
       "  <thead>\n",
       "    <tr style=\"text-align: right;\">\n",
       "      <th></th>\n",
       "      <th>count</th>\n",
       "      <th>mean</th>\n",
       "      <th>std</th>\n",
       "      <th>min</th>\n",
       "      <th>25%</th>\n",
       "      <th>50%</th>\n",
       "      <th>75%</th>\n",
       "      <th>max</th>\n",
       "    </tr>\n",
       "  </thead>\n",
       "  <tbody>\n",
       "    <tr>\n",
       "      <th>RMSE</th>\n",
       "      <td>10.0</td>\n",
       "      <td>55.671975</td>\n",
       "      <td>2.952127</td>\n",
       "      <td>49.746739</td>\n",
       "      <td>54.389244</td>\n",
       "      <td>56.293196</td>\n",
       "      <td>56.67</td>\n",
       "      <td>61.058175</td>\n",
       "    </tr>\n",
       "  </tbody>\n",
       "</table>\n",
       "</div>"
      ],
      "text/plain": [
       "      count       mean       std        min        25%        50%    75%  \\\n",
       "RMSE   10.0  55.671975  2.952127  49.746739  54.389244  56.293196  56.67   \n",
       "\n",
       "            max  \n",
       "RMSE  61.058175  "
      ]
     },
     "metadata": {},
     "output_type": "display_data"
    }
   ],
   "source": [
    "display(df.describe().T)"
   ]
  },
  {
   "cell_type": "code",
   "execution_count": 8,
   "id": "1aefa48a",
   "metadata": {},
   "outputs": [
    {
     "data": {
      "text/plain": [
       "Text(0.5, 17.722222222222214, 'Over repeated train test splits')"
      ]
     },
     "execution_count": 8,
     "metadata": {},
     "output_type": "execute_result"
    },
    {
     "data": {
      "image/png": "[encoded data removed]",
      "text/plain": [
       "<Figure size 400x300 with 1 Axes>"
      ]
     },
     "metadata": {},
     "output_type": "display_data"
    }
   ],
   "source": [
    "ax = plt.figure(figsize=(4, 3)).gca()\n",
    "ax = sns.swarmplot(y=\"RMSE\", data=df, ax=ax)\n",
    "ax.set_xlabel(\"Over repeated train test splits\")"
   ]
  },
  {
   "cell_type": "code",
   "execution_count": 19,
   "id": "85bf0768",
   "metadata": {},
   "outputs": [
    {
     "data": {
      "text/plain": [
       "array([ 16, 408, 432, 316,   3,  18, 355,  60, 398, 124])"
      ]
     },
     "execution_count": 19,
     "metadata": {},
     "output_type": "execute_result"
    }
   ],
   "source": [
    "# using ShuffleSplit() with random state\n",
    "ss = skms.ShuffleSplit(test_size=0.25, random_state=42)\n",
    "train, test = 0, 1\n",
    "next(ss.split(dataset.data))[train][:10]"
   ]
  },
  {
   "cell_type": "code",
   "execution_count": 25,
   "id": "d1a40164",
   "metadata": {},
   "outputs": [
    {
     "data": {
      "text/plain": [
       "array([89, 90, 91, 92, 93, 94, 95, 96, 97, 98])"
      ]
     },
     "execution_count": 25,
     "metadata": {},
     "output_type": "execute_result"
    }
   ],
   "source": [
    "# using KFold()\n",
    "kf = skms.KFold(5)\n",
    "next(kf.split(dataset.data))[train][:10]"
   ]
  },
  {
   "cell_type": "code",
   "execution_count": 41,
   "id": "5e2d6e75",
   "metadata": {},
   "outputs": [
    {
     "data": {
      "text/plain": [
       "(array([0, 1, 3, 5]), array([1, 2, 4, 5]))"
      ]
     },
     "execution_count": 41,
     "metadata": {},
     "output_type": "execute_result"
    }
   ],
   "source": [
    "# using the pet targets to show how shuffling works in KFold()\n",
    "pet = np.array([\"cat\", \"dog\", \"cat\", \"dog\", \"dog\", \"dog\"])\n",
    "kf = skms.KFold(3, shuffle=True)\n",
    "train, test = 0, 1\n",
    "split_group1 = next(kf.split(pet))[train]\n",
    "split_group2 = next(kf.split(pet))[train]\n",
    "split_group1, split_group2"
   ]
  },
  {
   "cell_type": "code",
   "execution_count": null,
   "id": "b2012b68",
   "metadata": {},
   "outputs": [],
   "source": []
  }
 ],
 "metadata": {
  "kernelspec": {
   "display_name": "Python 3 (ipykernel)",
   "language": "python",
   "name": "python3"
  },
  "language_info": {
   "codemirror_mode": {
    "name": "ipython",
    "version": 3
   },
   "file_extension": ".py",
   "mimetype": "text/x-python",
   "name": "python",
   "nbconvert_exporter": "python",
   "pygments_lexer": "ipython3",
   "version": "3.10.9"
  }
 },
 "nbformat": 4,
 "nbformat_minor": 5
}
