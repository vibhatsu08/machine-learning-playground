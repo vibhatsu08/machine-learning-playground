{
 "cells": [
  {
   "cell_type": "code",
   "execution_count": 22,
   "id": "21326344",
   "metadata": {},
   "outputs": [],
   "source": [
    "import numpy as np\n",
    "import pandas as pd\n",
    "import matplotlib.pyplot as plt\n",
    "import seaborn as sns\n",
    "from sklearn import (\n",
    "    datasets, metrics, model_selection as skms, linear_model\n",
    ")"
   ]
  },
  {
   "cell_type": "code",
   "execution_count": 2,
   "id": "e534a47e",
   "metadata": {},
   "outputs": [],
   "source": [
    "dataset = datasets.load_diabetes()"
   ]
  },
  {
   "cell_type": "code",
   "execution_count": 3,
   "id": "3caba2b3",
   "metadata": {},
   "outputs": [],
   "source": [
    "model = linear_model.LinearRegression()"
   ]
  },
  {
   "cell_type": "code",
   "execution_count": 42,
   "id": "8f18d8b9",
   "metadata": {},
   "outputs": [
    {
     "data": {
      "text/html": [
       "<div>\n",
       "<style scoped>\n",
       "    .dataframe tbody tr th:only-of-type {\n",
       "        vertical-align: middle;\n",
       "    }\n",
       "\n",
       "    .dataframe tbody tr th {\n",
       "        vertical-align: top;\n",
       "    }\n",
       "\n",
       "    .dataframe thead th {\n",
       "        text-align: right;\n",
       "    }\n",
       "</style>\n",
       "<table border=\"1\" class=\"dataframe\">\n",
       "  <thead>\n",
       "    <tr style=\"text-align: right;\">\n",
       "      <th>Repeat</th>\n",
       "      <th>0</th>\n",
       "      <th>1</th>\n",
       "      <th>2</th>\n",
       "      <th>3</th>\n",
       "      <th>4</th>\n",
       "      <th>5</th>\n",
       "      <th>6</th>\n",
       "      <th>7</th>\n",
       "      <th>8</th>\n",
       "      <th>9</th>\n",
       "    </tr>\n",
       "  </thead>\n",
       "  <tbody>\n",
       "    <tr>\n",
       "      <th>RMSE</th>\n",
       "      <td>53.965025</td>\n",
       "      <td>57.239801</td>\n",
       "      <td>56.543342</td>\n",
       "      <td>54.370963</td>\n",
       "      <td>51.886349</td>\n",
       "      <td>52.581523</td>\n",
       "      <td>54.299056</td>\n",
       "      <td>46.910381</td>\n",
       "      <td>54.950921</td>\n",
       "      <td>51.887195</td>\n",
       "    </tr>\n",
       "  </tbody>\n",
       "</table>\n",
       "</div>"
      ],
      "text/plain": [
       "Repeat          0          1          2          3          4          5  \\\n",
       "RMSE    53.965025  57.239801  56.543342  54.370963  51.886349  52.581523   \n",
       "\n",
       "Repeat          6          7          8          9  \n",
       "RMSE    54.299056  46.910381  54.950921  51.887195  "
      ]
     },
     "execution_count": 42,
     "metadata": {},
     "output_type": "execute_result"
    }
   ],
   "source": [
    "# shuffle split\n",
    "ss = skms.ShuffleSplit(test_size=0.25)\n",
    "scores = skms.cross_val_score(model, dataset.data, dataset.target, cv=ss, scoring=\"neg_mean_squared_error\")\n",
    "scores = pd.Series(np.sqrt(-scores))\n",
    "df = pd.DataFrame({\"RMSE\": scores})\n",
    "df.index.name = \"Repeat\"\n",
    "df.T"
   ]
  },
  {
   "cell_type": "code",
   "execution_count": 43,
   "id": "518287e7",
   "metadata": {},
   "outputs": [
    {
     "data": {
      "text/html": [
       "<div>\n",
       "<style scoped>\n",
       "    .dataframe tbody tr th:only-of-type {\n",
       "        vertical-align: middle;\n",
       "    }\n",
       "\n",
       "    .dataframe tbody tr th {\n",
       "        vertical-align: top;\n",
       "    }\n",
       "\n",
       "    .dataframe thead th {\n",
       "        text-align: right;\n",
       "    }\n",
       "</style>\n",
       "<table border=\"1\" class=\"dataframe\">\n",
       "  <thead>\n",
       "    <tr style=\"text-align: right;\">\n",
       "      <th></th>\n",
       "      <th>count</th>\n",
       "      <th>mean</th>\n",
       "      <th>std</th>\n",
       "      <th>min</th>\n",
       "      <th>25%</th>\n",
       "      <th>50%</th>\n",
       "      <th>75%</th>\n",
       "      <th>max</th>\n",
       "    </tr>\n",
       "  </thead>\n",
       "  <tbody>\n",
       "    <tr>\n",
       "      <th>RMSE</th>\n",
       "      <td>10.0</td>\n",
       "      <td>53.463455</td>\n",
       "      <td>2.914044</td>\n",
       "      <td>46.910381</td>\n",
       "      <td>52.060777</td>\n",
       "      <td>54.132041</td>\n",
       "      <td>54.805931</td>\n",
       "      <td>57.239801</td>\n",
       "    </tr>\n",
       "  </tbody>\n",
       "</table>\n",
       "</div>"
      ],
      "text/plain": [
       "      count       mean       std        min        25%        50%        75%  \\\n",
       "RMSE   10.0  53.463455  2.914044  46.910381  52.060777  54.132041  54.805931   \n",
       "\n",
       "            max  \n",
       "RMSE  57.239801  "
      ]
     },
     "metadata": {},
     "output_type": "display_data"
    }
   ],
   "source": [
    "display(df.describe().T)"
   ]
  },
  {
   "cell_type": "code",
   "execution_count": 44,
   "id": "de2042f8",
   "metadata": {},
   "outputs": [
    {
     "data": {
      "text/plain": [
       "Text(0.5, 17.722222222222214, 'Over repeated train test splits')"
      ]
     },
     "execution_count": 44,
     "metadata": {},
     "output_type": "execute_result"
    },
    {
     "data": {
      "image/png": "[encoded data removed]",
      "text/plain": [
       "<Figure size 400x300 with 1 Axes>"
      ]
     },
     "metadata": {},
     "output_type": "display_data"
    }
   ],
   "source": [
    "ax = plt.figure(figsize=(4, 3)).gca()\n",
    "ax = sns.swarmplot(y=\"RMSE\", data=df, ax=ax)\n",
    "ax.set_xlabel(\"Over repeated train test splits\")"
   ]
  },
  {
   "cell_type": "code",
   "execution_count": null,
   "id": "6f929d17",
   "metadata": {},
   "outputs": [],
   "source": []
  }
 ],
 "metadata": {
  "kernelspec": {
   "display_name": "Python 3 (ipykernel)",
   "language": "python",
   "name": "python3"
  },
  "language_info": {
   "codemirror_mode": {
    "name": "ipython",
    "version": 3
   },
   "file_extension": ".py",
   "mimetype": "text/x-python",
   "name": "python",
   "nbconvert_exporter": "python",
   "pygments_lexer": "ipython3",
   "version": "3.10.9"
  }
 },
 "nbformat": 4,
 "nbformat_minor": 5
}
