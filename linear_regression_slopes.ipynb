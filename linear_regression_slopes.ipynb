{
 "cells": [
  {
   "cell_type": "code",
   "execution_count": 2,
   "id": "ee814d13",
   "metadata": {},
   "outputs": [],
   "source": [
    "import numpy as np\n",
    "import pandas as pd\n",
    "import matplotlib.pyplot as plt\n",
    "import seaborn as sns"
   ]
  },
  {
   "cell_type": "code",
   "execution_count": 3,
   "id": "5b61f645",
   "metadata": {},
   "outputs": [],
   "source": [
    "def axis_helper(axis, limits):\n",
    "    axis.set_xlim(limits); axis.set_xticks([])\n",
    "    axis.set_ylim(limits); axis.set_yticks([])\n",
    "    axis.set_aspect(\"equal\")"
   ]
  },
  {
   "cell_type": "code",
   "execution_count": 4,
   "id": "48aa6025",
   "metadata": {},
   "outputs": [],
   "source": [
    "D = np.array([[3, 5], [4, 2]])\n",
    "x, y = D[:, 0], D[:, 1]"
   ]
  },
  {
   "cell_type": "code",
   "execution_count": 5,
   "id": "760f83b3",
   "metadata": {},
   "outputs": [
    {
     "data": {
      "text/plain": [
       "[(1.0, array([4., 1.]), 5.0, 17.0, 4.123105625617661),\n",
       " (2.0, array([3., 0.]), 3.0, 9.0, 3.0),\n",
       " (3.0, array([ 2., -1.]), 1.0, 5.0, 2.23606797749979),\n",
       " (3.5, array([ 1.5, -1.5]), 0.0, 4.5, 2.1213203435596424),\n",
       " (4.0, array([ 1., -2.]), -1.0, 5.0, 2.23606797749979),\n",
       " (5.0, array([ 0., -3.]), -3.0, 9.0, 3.0)]"
      ]
     },
     "execution_count": 5,
     "metadata": {},
     "output_type": "execute_result"
    },
    {
     "data": {
      "image/png": "[encoded data removed]",
      "text/plain": [
       "<Figure size 1000x500 with 6 Axes>"
      ]
     },
     "metadata": {},
     "output_type": "display_data"
    }
   ],
   "source": [
    "horizontal_lines = np.array([1, 2, 3, 3.5, 4, 5])\n",
    "results = []\n",
    "fig, axes = plt.subplots(1, 6, figsize=(10, 5))\n",
    "for h_line, ax in zip(horizontal_lines, axes.flat):\n",
    "#     styling the plot\n",
    "    axis_helper(ax, (0, 6))\n",
    "    ax.set_title(str(h_line))\n",
    "    \n",
    "#     plotting the data\n",
    "    ax.plot(x, y, \"ro\")\n",
    "    \n",
    "#     plotting the prediction line\n",
    "    ax.axhline(h_line, color=\"y\")\n",
    "    \n",
    "#     plotting the errors\n",
    "    predictions = h_line\n",
    "    ax.vlines(x, predictions, y)\n",
    "    \n",
    "#     calculate the error amounts and their sum of squares\n",
    "    errors = y - predictions\n",
    "    sse = np.dot(errors, errors)\n",
    "#     sse stands for sum of squared errors\n",
    "\n",
    "    results.append((predictions, errors, errors.sum(), sse, np.sqrt(sse)))\n",
    "results"
   ]
  },
  {
   "cell_type": "code",
   "execution_count": 6,
   "id": "7e2d3fa4",
   "metadata": {},
   "outputs": [
    {
     "data": {
      "text/html": [
       "<div>\n",
       "<style scoped>\n",
       "    .dataframe tbody tr th:only-of-type {\n",
       "        vertical-align: middle;\n",
       "    }\n",
       "\n",
       "    .dataframe tbody tr th {\n",
       "        vertical-align: top;\n",
       "    }\n",
       "\n",
       "    .dataframe thead th {\n",
       "        text-align: right;\n",
       "    }\n",
       "</style>\n",
       "<table border=\"1\" class=\"dataframe\">\n",
       "  <thead>\n",
       "    <tr style=\"text-align: right;\">\n",
       "      <th></th>\n",
       "      <th>Errors</th>\n",
       "      <th>Sum</th>\n",
       "      <th>SSE</th>\n",
       "      <th>Distance</th>\n",
       "    </tr>\n",
       "    <tr>\n",
       "      <th>Prediction</th>\n",
       "      <th></th>\n",
       "      <th></th>\n",
       "      <th></th>\n",
       "      <th></th>\n",
       "    </tr>\n",
       "  </thead>\n",
       "  <tbody>\n",
       "    <tr>\n",
       "      <th>1.0</th>\n",
       "      <td>[4.0, 1.0]</td>\n",
       "      <td>5.0</td>\n",
       "      <td>17.0</td>\n",
       "      <td>4.123106</td>\n",
       "    </tr>\n",
       "    <tr>\n",
       "      <th>2.0</th>\n",
       "      <td>[3.0, 0.0]</td>\n",
       "      <td>3.0</td>\n",
       "      <td>9.0</td>\n",
       "      <td>3.000000</td>\n",
       "    </tr>\n",
       "    <tr>\n",
       "      <th>3.0</th>\n",
       "      <td>[2.0, -1.0]</td>\n",
       "      <td>1.0</td>\n",
       "      <td>5.0</td>\n",
       "      <td>2.236068</td>\n",
       "    </tr>\n",
       "    <tr>\n",
       "      <th>3.5</th>\n",
       "      <td>[1.5, -1.5]</td>\n",
       "      <td>0.0</td>\n",
       "      <td>4.5</td>\n",
       "      <td>2.121320</td>\n",
       "    </tr>\n",
       "    <tr>\n",
       "      <th>4.0</th>\n",
       "      <td>[1.0, -2.0]</td>\n",
       "      <td>-1.0</td>\n",
       "      <td>5.0</td>\n",
       "      <td>2.236068</td>\n",
       "    </tr>\n",
       "    <tr>\n",
       "      <th>5.0</th>\n",
       "      <td>[0.0, -3.0]</td>\n",
       "      <td>-3.0</td>\n",
       "      <td>9.0</td>\n",
       "      <td>3.000000</td>\n",
       "    </tr>\n",
       "  </tbody>\n",
       "</table>\n",
       "</div>"
      ],
      "text/plain": [
       "                 Errors  Sum   SSE  Distance\n",
       "Prediction                                  \n",
       "1.0          [4.0, 1.0]  5.0  17.0  4.123106\n",
       "2.0          [3.0, 0.0]  3.0   9.0  3.000000\n",
       "3.0         [2.0, -1.0]  1.0   5.0  2.236068\n",
       "3.5         [1.5, -1.5]  0.0   4.5  2.121320\n",
       "4.0         [1.0, -2.0] -1.0   5.0  2.236068\n",
       "5.0         [0.0, -3.0] -3.0   9.0  3.000000"
      ]
     },
     "metadata": {},
     "output_type": "display_data"
    }
   ],
   "source": [
    "col_labels = \"Prediction\", \"Errors\", \"Sum\", \"SSE\", \"Distance\"\n",
    "display(pd.DataFrame.from_records(results, columns=col_labels, index=\"Prediction\"))"
   ]
  },
  {
   "cell_type": "code",
   "execution_count": 7,
   "id": "fc0f047f",
   "metadata": {},
   "outputs": [],
   "source": [
    "def process(D, model, ax):\n",
    "    x, y = D[:, 0], D[:, 1]\n",
    "    m, b = model\n",
    "    \n",
    "#     styling\n",
    "    axis_helper(ax, (0, 8))\n",
    "    \n",
    "#     plotting the data\n",
    "    ax.plot(x, y, \"ro\")\n",
    "    \n",
    "#     plotting the prediction line\n",
    "    helper_xs = np.array([0, 8])\n",
    "    helper_line = m * helper_xs + b\n",
    "    ax.plot(helper_xs, helper_line, color=\"y\")\n",
    "    \n",
    "#     plotting the errors\n",
    "    predictions = m * x + b\n",
    "    ax.vlines(x, predictions, y)\n",
    "    \n",
    "#     calculating the error amounts\n",
    "    errors = y - predictions\n",
    "    \n",
    "#     tuple-ing up the results\n",
    "    sse = np.dot(errors, errors)\n",
    "    return (errors, errors.sum(), sse, np.sqrt(sse))\n"
   ]
  },
  {
   "cell_type": "code",
   "execution_count": 8,
   "id": "35e750f5",
   "metadata": {},
   "outputs": [
    {
     "data": {
      "text/html": [
       "<div>\n",
       "<style scoped>\n",
       "    .dataframe tbody tr th:only-of-type {\n",
       "        vertical-align: middle;\n",
       "    }\n",
       "\n",
       "    .dataframe tbody tr th {\n",
       "        vertical-align: top;\n",
       "    }\n",
       "\n",
       "    .dataframe thead th {\n",
       "        text-align: right;\n",
       "    }\n",
       "</style>\n",
       "<table border=\"1\" class=\"dataframe\">\n",
       "  <thead>\n",
       "    <tr style=\"text-align: right;\">\n",
       "      <th></th>\n",
       "      <th>Raw errors</th>\n",
       "      <th>Sum</th>\n",
       "      <th>SSE</th>\n",
       "      <th>TotDist</th>\n",
       "    </tr>\n",
       "  </thead>\n",
       "  <tbody>\n",
       "    <tr>\n",
       "      <th>0</th>\n",
       "      <td>[2, -2]</td>\n",
       "      <td>0</td>\n",
       "      <td>8</td>\n",
       "      <td>2.828427</td>\n",
       "    </tr>\n",
       "    <tr>\n",
       "      <th>1</th>\n",
       "      <td>[1, -3]</td>\n",
       "      <td>-2</td>\n",
       "      <td>10</td>\n",
       "      <td>3.162278</td>\n",
       "    </tr>\n",
       "    <tr>\n",
       "      <th>2</th>\n",
       "      <td>[0, -4]</td>\n",
       "      <td>-4</td>\n",
       "      <td>16</td>\n",
       "      <td>4.000000</td>\n",
       "    </tr>\n",
       "    <tr>\n",
       "      <th>3</th>\n",
       "      <td>[0, -2]</td>\n",
       "      <td>-2</td>\n",
       "      <td>4</td>\n",
       "      <td>2.000000</td>\n",
       "    </tr>\n",
       "    <tr>\n",
       "      <th>4</th>\n",
       "      <td>[0, 0]</td>\n",
       "      <td>0</td>\n",
       "      <td>0</td>\n",
       "      <td>0.000000</td>\n",
       "    </tr>\n",
       "  </tbody>\n",
       "</table>\n",
       "</div>"
      ],
      "text/plain": [
       "  Raw errors  Sum  SSE   TotDist\n",
       "0    [2, -2]    0    8  2.828427\n",
       "1    [1, -3]   -2   10  3.162278\n",
       "2    [0, -4]   -4   16  4.000000\n",
       "3    [0, -2]   -2    4  2.000000\n",
       "4     [0, 0]    0    0  0.000000"
      ]
     },
     "metadata": {},
     "output_type": "display_data"
    },
    {
     "data": {
      "image/png": "[encoded data removed]",
      "text/plain": [
       "<Figure size 1200x600 with 5 Axes>"
      ]
     },
     "metadata": {},
     "output_type": "display_data"
    }
   ],
   "source": [
    "D = np.array([[3, 5], [4, 2]])\n",
    "lines_mb = np.array([\n",
    "    [1, 0],\n",
    "    [1, 1],\n",
    "    [1, 2],\n",
    "    [-1, 8],\n",
    "    [-3, 14]\n",
    "])\n",
    "col_labels = (\"Raw errors\", \"Sum\", \"SSE\", \"TotDist\")\n",
    "results = []\n",
    "\n",
    "# plotting occurs in process\n",
    "fig, axes = plt.subplots(1, 5, figsize=(12, 6))\n",
    "records = [process(D, mod, ax) for mod, ax in zip(lines_mb, axes.flat)]\n",
    "df = pd.DataFrame.from_records(records, columns=col_labels)\n",
    "display(df)"
   ]
  },
  {
   "cell_type": "code",
   "execution_count": 32,
   "id": "68135970",
   "metadata": {},
   "outputs": [],
   "source": [
    "# performing optimization to pick the best possible line.\n",
    "tgt = np.array([3, 5, 8, 10, 12, 15])"
   ]
  },
  {
   "cell_type": "code",
   "execution_count": 33,
   "id": "7d25c135",
   "metadata": {},
   "outputs": [
    {
     "data": {
      "text/plain": [
       "9.000929466278006"
      ]
     },
     "execution_count": 33,
     "metadata": {},
     "output_type": "execute_result"
    }
   ],
   "source": [
    "# 1) Random Guess - Try lots of possiblities at random, take the best one.\n",
    "num_guesses = 10\n",
    "results = []\n",
    "\n",
    "for g in range(num_guesses):\n",
    "    guess = np.random.uniform(low=tgt.min(), high=tgt.max())\n",
    "    total_dist = np.sum((tgt - guess) ** 2)\n",
    "    results.append((total_dist, guess))\n",
    "best_guess = sorted(results)[0][1]\n",
    "best_guess\n",
    "    "
   ]
  },
  {
   "cell_type": "code",
   "execution_count": 35,
   "id": "051f6f3e",
   "metadata": {},
   "outputs": [],
   "source": [
    "# 2) Random Step - Try one line --- pick an m and a b --- at random, make several random adjustments, pick one adjustment that helps the most.\n",
    "num_steps = 100\n",
    "step_size = 0.5\n",
    "\n",
    "best_guess = np.random.uniform(low=tgt.min(), high=tgt.max())\n",
    "best_dist = np.sum((tgt - best_guess) ** 2)\n",
    "\n",
    "for s in range(num_steps):\n",
    "    new_guess = best_guess + (np.random.choice([+1, -1]) * step_size)\n",
    "    "
   ]
  },
  {
   "cell_type": "code",
   "execution_count": null,
   "id": "86dda91b",
   "metadata": {},
   "outputs": [],
   "source": []
  }
 ],
 "metadata": {
  "kernelspec": {
   "display_name": "Python 3 (ipykernel)",
   "language": "python",
   "name": "python3"
  },
  "language_info": {
   "codemirror_mode": {
    "name": "ipython",
    "version": 3
   },
   "file_extension": ".py",
   "mimetype": "text/x-python",
   "name": "python",
   "nbconvert_exporter": "python",
   "pygments_lexer": "ipython3",
   "version": "3.10.9"
  }
 },
 "nbformat": 4,
 "nbformat_minor": 5
}
