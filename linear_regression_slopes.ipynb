{
 "cells": [
  {
   "cell_type": "code",
   "execution_count": 5,
   "id": "ee814d13",
   "metadata": {},
   "outputs": [],
   "source": [
    "import numpy as np\n",
    "import pandas as pd\n",
    "import matplotlib.pyplot as plt\n",
    "import seaborn as sns"
   ]
  },
  {
   "cell_type": "code",
   "execution_count": 6,
   "id": "5b61f645",
   "metadata": {},
   "outputs": [],
   "source": [
    "def axis_helper(axis, limits):\n",
    "    axis.set_xlim(limits); axis.set_xticks([])\n",
    "    axis.set_ylim(limits); axis.set_yticks([])\n",
    "    axis.set_aspect(\"equal\")"
   ]
  },
  {
   "cell_type": "code",
   "execution_count": 7,
   "id": "48aa6025",
   "metadata": {},
   "outputs": [],
   "source": [
    "D = np.array([[3, 5], [4, 2]])\n",
    "x, y = D[:, 0], D[:, 1]"
   ]
  },
  {
   "cell_type": "code",
   "execution_count": 15,
   "id": "760f83b3",
   "metadata": {},
   "outputs": [
    {
     "data": {
      "text/plain": [
       "[(1.0, array([4., 1.]), 5.0, 17.0, 4.123105625617661),\n",
       " (2.0, array([3., 0.]), 3.0, 9.0, 3.0),\n",
       " (3.0, array([ 2., -1.]), 1.0, 5.0, 2.23606797749979),\n",
       " (3.5, array([ 1.5, -1.5]), 0.0, 4.5, 2.1213203435596424),\n",
       " (4.0, array([ 1., -2.]), -1.0, 5.0, 2.23606797749979),\n",
       " (5.0, array([ 0., -3.]), -3.0, 9.0, 3.0)]"
      ]
     },
     "execution_count": 15,
     "metadata": {},
     "output_type": "execute_result"
    },
    {
     "data": {
      "image/png": "[encoded data removed]",
      "text/plain": [
       "<Figure size 1000x500 with 6 Axes>"
      ]
     },
     "metadata": {},
     "output_type": "display_data"
    }
   ],
   "source": [
    "horizontal_lines = np.array([1, 2, 3, 3.5, 4, 5])\n",
    "results = []\n",
    "fig, axes = plt.subplots(1, 6, figsize=(10, 5))\n",
    "for h_line, ax in zip(horizontal_lines, axes.flat):\n",
    "#     styling the plot\n",
    "    axis_helper(ax, (0, 6))\n",
    "    ax.set_title(str(h_line))\n",
    "    \n",
    "#     plotting the data\n",
    "    ax.plot(x, y, \"ro\")\n",
    "    \n",
    "#     plotting the prediction line\n",
    "    ax.axhline(h_line, color=\"y\")\n",
    "    \n",
    "#     plotting the errors\n",
    "    predictions = h_line\n",
    "    ax.vlines(x, predictions, y)\n",
    "    \n",
    "#     calculate the error amounts and their sum of squares\n",
    "    errors = y - predictions\n",
    "    sse = np.dot(errors, errors)\n",
    "#     sse stands for sum of squared errors\n",
    "\n",
    "    results.append((predictions, errors, errors.sum(), sse, np.sqrt(sse)))\n",
    "results"
   ]
  },
  {
   "cell_type": "code",
   "execution_count": 16,
   "id": "7e2d3fa4",
   "metadata": {},
   "outputs": [
    {
     "data": {
      "text/html": [
       "<div>\n",
       "<style scoped>\n",
       "    .dataframe tbody tr th:only-of-type {\n",
       "        vertical-align: middle;\n",
       "    }\n",
       "\n",
       "    .dataframe tbody tr th {\n",
       "        vertical-align: top;\n",
       "    }\n",
       "\n",
       "    .dataframe thead th {\n",
       "        text-align: right;\n",
       "    }\n",
       "</style>\n",
       "<table border=\"1\" class=\"dataframe\">\n",
       "  <thead>\n",
       "    <tr style=\"text-align: right;\">\n",
       "      <th></th>\n",
       "      <th>Errors</th>\n",
       "      <th>Sum</th>\n",
       "      <th>SSE</th>\n",
       "      <th>Distance</th>\n",
       "    </tr>\n",
       "    <tr>\n",
       "      <th>Prediction</th>\n",
       "      <th></th>\n",
       "      <th></th>\n",
       "      <th></th>\n",
       "      <th></th>\n",
       "    </tr>\n",
       "  </thead>\n",
       "  <tbody>\n",
       "    <tr>\n",
       "      <th>1.0</th>\n",
       "      <td>[4.0, 1.0]</td>\n",
       "      <td>5.0</td>\n",
       "      <td>17.0</td>\n",
       "      <td>4.123106</td>\n",
       "    </tr>\n",
       "    <tr>\n",
       "      <th>2.0</th>\n",
       "      <td>[3.0, 0.0]</td>\n",
       "      <td>3.0</td>\n",
       "      <td>9.0</td>\n",
       "      <td>3.000000</td>\n",
       "    </tr>\n",
       "    <tr>\n",
       "      <th>3.0</th>\n",
       "      <td>[2.0, -1.0]</td>\n",
       "      <td>1.0</td>\n",
       "      <td>5.0</td>\n",
       "      <td>2.236068</td>\n",
       "    </tr>\n",
       "    <tr>\n",
       "      <th>3.5</th>\n",
       "      <td>[1.5, -1.5]</td>\n",
       "      <td>0.0</td>\n",
       "      <td>4.5</td>\n",
       "      <td>2.121320</td>\n",
       "    </tr>\n",
       "    <tr>\n",
       "      <th>4.0</th>\n",
       "      <td>[1.0, -2.0]</td>\n",
       "      <td>-1.0</td>\n",
       "      <td>5.0</td>\n",
       "      <td>2.236068</td>\n",
       "    </tr>\n",
       "    <tr>\n",
       "      <th>5.0</th>\n",
       "      <td>[0.0, -3.0]</td>\n",
       "      <td>-3.0</td>\n",
       "      <td>9.0</td>\n",
       "      <td>3.000000</td>\n",
       "    </tr>\n",
       "  </tbody>\n",
       "</table>\n",
       "</div>"
      ],
      "text/plain": [
       "                 Errors  Sum   SSE  Distance\n",
       "Prediction                                  \n",
       "1.0          [4.0, 1.0]  5.0  17.0  4.123106\n",
       "2.0          [3.0, 0.0]  3.0   9.0  3.000000\n",
       "3.0         [2.0, -1.0]  1.0   5.0  2.236068\n",
       "3.5         [1.5, -1.5]  0.0   4.5  2.121320\n",
       "4.0         [1.0, -2.0] -1.0   5.0  2.236068\n",
       "5.0         [0.0, -3.0] -3.0   9.0  3.000000"
      ]
     },
     "metadata": {},
     "output_type": "display_data"
    }
   ],
   "source": [
    "col_labels = \"Prediction\", \"Errors\", \"Sum\", \"SSE\", \"Distance\"\n",
    "display(pd.DataFrame.from_records(results, columns=col_labels, index=\"Prediction\"))"
   ]
  },
  {
   "cell_type": "code",
   "execution_count": 17,
   "id": "fc0f047f",
   "metadata": {},
   "outputs": [],
   "source": [
    "def process(D, model, ax):\n",
    "    x, y = D[:, 0], D[:, 1]\n",
    "    m, b = model\n",
    "    \n",
    "#     styling\n",
    "    axis_helper(ax, (0, 8))\n",
    "    \n",
    "#     plotting the data\n",
    "    ax.plot(x, y, \"ro\")\n",
    "    \n",
    "#     plotting the prediction line\n",
    "    helper_xs = np.array([0, 8])\n",
    "    helper_line = m * helper_xs + b\n",
    "    ax.plot(helper_xs, helper_line, color=\"y\")\n",
    "    \n",
    "#     plotting the errors\n",
    "    predictions = m * x + b\n",
    "    ax.vlines(x, predictions, y)\n",
    "    \n",
    "#     calculating the error amounts\n",
    "    errors = y - predictions\n",
    "    \n",
    "#     tuple-ing up the results\n",
    "    sse = np.dot(errors, errors)\n",
    "    return (errors, errors.sum(), sse, np.sqrt(sse))\n"
   ]
  },
  {
   "cell_type": "code",
   "execution_count": null,
   "id": "7bc3b900",
   "metadata": {},
   "outputs": [],
   "source": [
    "D = np.array([[3, 5], [4, 2]])\n",
    "lines_mb = np.array([\n",
    "    [1, 0],\n",
    "    [1, 1],\n",
    "    [1, 2],\n",
    "    [-1, 8],\n",
    "    [-3, 14]\n",
    "])\n",
    "col_labels = (\"Raw errors\", \"Sum\", \"SSE\", \"TotDist\")\n",
    "results = []\n",
    "\n",
    "# plotting occurs in process\n",
    "fig, axes = plt.subplots(1, 5, figsize=(12, 6))\n",
    "records = [process(D, mod, ax) for mod, ax in zip(lines_mb, axes.flat)]\n",
    "df = pd.DataFrame.from_records(records, columns=col_labels)\n",
    "display(df)"
   ]
  },
  {
   "cell_type": "code",
   "execution_count": null,
   "id": "15cb4000",
   "metadata": {},
   "outputs": [],
   "source": []
  }
 ],
 "metadata": {
  "kernelspec": {
   "display_name": "Python 3 (ipykernel)",
   "language": "python",
   "name": "python3"
  },
  "language_info": {
   "codemirror_mode": {
    "name": "ipython",
    "version": 3
   },
   "file_extension": ".py",
   "mimetype": "text/x-python",
   "name": "python",
   "nbconvert_exporter": "python",
   "pygments_lexer": "ipython3",
   "version": "3.10.9"
  }
 },
 "nbformat": 4,
 "nbformat_minor": 5
}
