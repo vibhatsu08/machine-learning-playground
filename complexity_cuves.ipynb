{
 "cells": [
  {
   "cell_type": "code",
   "execution_count": 1,
   "id": "e383a11f",
   "metadata": {},
   "outputs": [],
   "source": [
    "import numpy as np\n",
    "import pandas as pd\n",
    "import matplotlib.pyplot as plt\n",
    "import seaborn as sns\n",
    "from sklearn import (\n",
    "    datasets, metrics, model_selection as skms, neighbors\n",
    ")"
   ]
  },
  {
   "cell_type": "code",
   "execution_count": 2,
   "id": "f0233e23",
   "metadata": {},
   "outputs": [],
   "source": [
    "dataset = datasets.load_iris()"
   ]
  },
  {
   "cell_type": "code",
   "execution_count": 3,
   "id": "c7e20c15",
   "metadata": {},
   "outputs": [],
   "source": [
    "knc = neighbors.KNeighborsClassifier()"
   ]
  },
  {
   "cell_type": "code",
   "execution_count": 15,
   "id": "5d09a52f",
   "metadata": {},
   "outputs": [
    {
     "data": {
      "text/plain": [
       "(array([[1.        , 1.        , 1.        , 1.        , 1.        ],\n",
       "        [0.95833333, 0.95833333, 0.96666667, 0.96666667, 0.95      ],\n",
       "        [0.96666667, 0.96666667, 0.975     , 0.975     , 0.96666667],\n",
       "        [0.975     , 0.975     , 0.975     , 0.98333333, 0.95833333],\n",
       "        [0.98333333, 0.975     , 0.98333333, 0.975     , 0.96666667],\n",
       "        [0.98333333, 0.95833333, 0.975     , 0.975     , 0.94166667]]),\n",
       " array([[0.96666667, 0.96666667, 0.93333333, 0.93333333, 1.        ],\n",
       "        [0.96666667, 0.96666667, 0.93333333, 0.96666667, 1.        ],\n",
       "        [0.96666667, 1.        , 0.93333333, 0.96666667, 1.        ],\n",
       "        [0.96666667, 1.        , 1.        , 0.93333333, 1.        ],\n",
       "        [0.93333333, 1.        , 0.93333333, 0.96666667, 1.        ],\n",
       "        [0.93333333, 1.        , 0.93333333, 0.93333333, 1.        ]]))"
      ]
     },
     "execution_count": 15,
     "metadata": {},
     "output_type": "execute_result"
    }
   ],
   "source": [
    "neighbors = [1, 3, 5, 10, 15, 20]\n",
    "(train_scores, test_scores) = skms.validation_curve(knc, dataset.data, dataset.target, param_name=\"n_neighbors\", param_range=neighbors, cv=5)\n",
    "train_scores, test_scores"
   ]
  },
  {
   "cell_type": "code",
   "execution_count": 54,
   "id": "027132f2",
   "metadata": {},
   "outputs": [
    {
     "data": {
      "text/html": [
       "<div>\n",
       "<style scoped>\n",
       "    .dataframe tbody tr th:only-of-type {\n",
       "        vertical-align: middle;\n",
       "    }\n",
       "\n",
       "    .dataframe tbody tr th {\n",
       "        vertical-align: top;\n",
       "    }\n",
       "\n",
       "    .dataframe thead th {\n",
       "        text-align: right;\n",
       "    }\n",
       "</style>\n",
       "<table border=\"1\" class=\"dataframe\">\n",
       "  <thead>\n",
       "    <tr style=\"text-align: right;\">\n",
       "      <th></th>\n",
       "      <th>0</th>\n",
       "      <th>1</th>\n",
       "      <th>2</th>\n",
       "      <th>3</th>\n",
       "      <th>4</th>\n",
       "      <th>Mean</th>\n",
       "    </tr>\n",
       "    <tr>\n",
       "      <th>no. of neighbors used</th>\n",
       "      <th></th>\n",
       "      <th></th>\n",
       "      <th></th>\n",
       "      <th></th>\n",
       "      <th></th>\n",
       "      <th></th>\n",
       "    </tr>\n",
       "  </thead>\n",
       "  <tbody>\n",
       "    <tr>\n",
       "      <th>1</th>\n",
       "      <td>0.966667</td>\n",
       "      <td>0.966667</td>\n",
       "      <td>0.933333</td>\n",
       "      <td>0.933333</td>\n",
       "      <td>1.0</td>\n",
       "      <td>0.960000</td>\n",
       "    </tr>\n",
       "    <tr>\n",
       "      <th>3</th>\n",
       "      <td>0.966667</td>\n",
       "      <td>0.966667</td>\n",
       "      <td>0.933333</td>\n",
       "      <td>0.966667</td>\n",
       "      <td>1.0</td>\n",
       "      <td>0.966667</td>\n",
       "    </tr>\n",
       "    <tr>\n",
       "      <th>5</th>\n",
       "      <td>0.966667</td>\n",
       "      <td>1.000000</td>\n",
       "      <td>0.933333</td>\n",
       "      <td>0.966667</td>\n",
       "      <td>1.0</td>\n",
       "      <td>0.973333</td>\n",
       "    </tr>\n",
       "    <tr>\n",
       "      <th>10</th>\n",
       "      <td>0.966667</td>\n",
       "      <td>1.000000</td>\n",
       "      <td>1.000000</td>\n",
       "      <td>0.933333</td>\n",
       "      <td>1.0</td>\n",
       "      <td>0.980000</td>\n",
       "    </tr>\n",
       "    <tr>\n",
       "      <th>15</th>\n",
       "      <td>0.933333</td>\n",
       "      <td>1.000000</td>\n",
       "      <td>0.933333</td>\n",
       "      <td>0.966667</td>\n",
       "      <td>1.0</td>\n",
       "      <td>0.966667</td>\n",
       "    </tr>\n",
       "    <tr>\n",
       "      <th>20</th>\n",
       "      <td>0.933333</td>\n",
       "      <td>1.000000</td>\n",
       "      <td>0.933333</td>\n",
       "      <td>0.933333</td>\n",
       "      <td>1.0</td>\n",
       "      <td>0.960000</td>\n",
       "    </tr>\n",
       "  </tbody>\n",
       "</table>\n",
       "</div>"
      ],
      "text/plain": [
       "                              0         1         2         3    4      Mean\n",
       "no. of neighbors used                                                       \n",
       "1                      0.966667  0.966667  0.933333  0.933333  1.0  0.960000\n",
       "3                      0.966667  0.966667  0.933333  0.966667  1.0  0.966667\n",
       "5                      0.966667  1.000000  0.933333  0.966667  1.0  0.973333\n",
       "10                     0.966667  1.000000  1.000000  0.933333  1.0  0.980000\n",
       "15                     0.933333  1.000000  0.933333  0.966667  1.0  0.966667\n",
       "20                     0.933333  1.000000  0.933333  0.933333  1.0  0.960000"
      ]
     },
     "execution_count": 54,
     "metadata": {},
     "output_type": "execute_result"
    }
   ],
   "source": [
    "df = pd.DataFrame(test_scores, index=(neighbors))\n",
    "df[\"Mean\"] = np.mean(test_scores, axis=1)\n",
    "df.index.name = \"no. of neighbors used\"\n",
    "df"
   ]
  },
  {
   "cell_type": "code",
   "execution_count": 50,
   "id": "c3703bb8",
   "metadata": {},
   "outputs": [],
   "source": [
    "train_mean = np.mean(train_scores, axis=1)\n",
    "train_std = np.std(train_scores, axis=1)\n",
    "test_mean = np.mean(test_scores, axis=1)\n",
    "test_std = np.std(test_scores, axis=1)"
   ]
  },
  {
   "cell_type": "code",
   "execution_count": 62,
   "id": "95a376d3",
   "metadata": {},
   "outputs": [
    {
     "data": {
      "text/plain": [
       "(0.9, 1.01)"
      ]
     },
     "execution_count": 62,
     "metadata": {},
     "output_type": "execute_result"
    },
    {
     "data": {
      "image/png": "[encoded data removed]",
      "text/plain": [
       "<Figure size 600x500 with 1 Axes>"
      ]
     },
     "metadata": {},
     "output_type": "display_data"
    }
   ],
   "source": [
    "plt.figure(figsize=(6, 5)).gca()\n",
    "plt.plot(neighbors, train_mean, \"o-\", color=\"r\", label=\"Train\")\n",
    "plt.plot(neighbors, test_mean, \"o-\", color=\"b\", label=\"Test\")\n",
    "plt.fill_between(neighbors, train_mean + train_std, train_mean - train_std, color=\"r\", alpha=0.1)\n",
    "plt.fill_between(neighbors, test_mean + test_std, test_mean - test_std, color=\"b\", alpha=0.1)\n",
    "plt.legend(loc=\"best\")\n",
    "plt.xlabel(\"\\n\".join([\"k for k-nn\", \"lower k, more complex\", \"\"]))\n",
    "plt.ylim(0.90, 1.01)"
   ]
  }
 ],
 "metadata": {
  "kernelspec": {
   "display_name": "Python 3 (ipykernel)",
   "language": "python",
   "name": "python3"
  },
  "language_info": {
   "codemirror_mode": {
    "name": "ipython",
    "version": 3
   },
   "file_extension": ".py",
   "mimetype": "text/x-python",
   "name": "python",
   "nbconvert_exporter": "python",
   "pygments_lexer": "ipython3",
   "version": "3.10.9"
  }
 },
 "nbformat": 4,
 "nbformat_minor": 5
}
