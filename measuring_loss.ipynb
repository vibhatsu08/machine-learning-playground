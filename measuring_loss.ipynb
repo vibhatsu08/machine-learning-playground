{
 "cells": [
  {
   "cell_type": "code",
   "execution_count": 21,
   "id": "34edd387",
   "metadata": {},
   "outputs": [],
   "source": [
    "import numpy as np\n",
    "import pandas as pd\n",
    "import matplotlib.pyplot as plt\n",
    "from sklearn import (\n",
    "    datasets, metrics, model_selection as skms, neighbors\n",
    ")"
   ]
  },
  {
   "cell_type": "code",
   "execution_count": 28,
   "id": "73a57d8a",
   "metadata": {},
   "outputs": [],
   "source": [
    "# calculating the training loss. The training loss is the sum of the losses on each example.\n",
    "def training_loss(loss, model, training_data):\n",
    "#     total training_loss on the training_data\n",
    "    return sum(loss(model.predict(x.reshape(1, -1)), y) for x, y in training_data)\n",
    "def squared_error(prediction, actual):\n",
    "#     squared error on a single example.\n",
    "    return (prediction - actual) ** 2"
   ]
  },
  {
   "cell_type": "code",
   "execution_count": 39,
   "id": "27c58b48",
   "metadata": {},
   "outputs": [
    {
     "data": {
      "text/plain": [
       "863792.3333333342"
      ]
     },
     "execution_count": 39,
     "metadata": {},
     "output_type": "execute_result"
    }
   ],
   "source": [
    "# putting the above to use with this model.\n",
    "# creating the model, knn\n",
    "knn = neighbors.KNeighborsRegressor(n_neighbors=3)\n",
    "fit = knn.fit(dataset.data, dataset.target)\n",
    "\n",
    "predictions = knn.predict(dataset.data)\n",
    "\n",
    "training_data = zip(dataset.data, dataset.target)\n",
    "my_training_loss = training_loss(squared_error, knn, training_data)\n",
    "my_training_loss[0]"
   ]
  },
  {
   "cell_type": "code",
   "execution_count": 38,
   "id": "38768a50",
   "metadata": {},
   "outputs": [
    {
     "data": {
      "text/plain": [
       "863792.3333333333"
      ]
     },
     "execution_count": 38,
     "metadata": {},
     "output_type": "execute_result"
    }
   ],
   "source": [
    "# similiar thing can be done with sklearn's mean_squared_error.\n",
    "mse = metrics.mean_squared_error(dataset.target, predictions) # actual vs predictions.\n",
    "mse*len(dataset.data)"
   ]
  },
  {
   "cell_type": "code",
   "execution_count": null,
   "id": "813f9340",
   "metadata": {},
   "outputs": [],
   "source": []
  }
 ],
 "metadata": {
  "kernelspec": {
   "display_name": "Python 3 (ipykernel)",
   "language": "python",
   "name": "python3"
  },
  "language_info": {
   "codemirror_mode": {
    "name": "ipython",
    "version": 3
   },
   "file_extension": ".py",
   "mimetype": "text/x-python",
   "name": "python",
   "nbconvert_exporter": "python",
   "pygments_lexer": "ipython3",
   "version": "3.10.9"
  }
 },
 "nbformat": 4,
 "nbformat_minor": 5
}
