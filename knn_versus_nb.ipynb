{
 "cells": [
  {
   "cell_type": "code",
   "execution_count": 26,
   "id": "b751f839",
   "metadata": {},
   "outputs": [],
   "source": [
    "# seeing the difference in the results between the knn model and the nb model."
   ]
  },
  {
   "cell_type": "code",
   "execution_count": 27,
   "id": "a29f4601",
   "metadata": {},
   "outputs": [],
   "source": [
    "# importing the necessary modules from the sklearn library\n",
    "from sklearn import (\n",
    "    datasets, metrics, model_selection as skms, neighbors, naive_bayes\n",
    ")"
   ]
  },
  {
   "cell_type": "code",
   "execution_count": 28,
   "id": "e6394d3b",
   "metadata": {},
   "outputs": [],
   "source": [
    "# loading the iris dataset.\n",
    "dataset = datasets.load_iris()"
   ]
  },
  {
   "cell_type": "code",
   "execution_count": 29,
   "id": "d5812707",
   "metadata": {},
   "outputs": [],
   "source": [
    "# splitting the dataset into the training features, target variables, and the testing features, testing variables.\n",
    "(dataset_train_ftrs, dataset_test_ftrs, dataset_train_trgt, dataset_test_trgt) = skms.train_test_split(dataset.data, dataset.target, test_size=0.9, random_state=42)"
   ]
  },
  {
   "cell_type": "code",
   "execution_count": 30,
   "id": "dff75d7d",
   "metadata": {},
   "outputs": [
    {
     "data": {
      "text/plain": [
       "0.9629629629629629"
      ]
     },
     "execution_count": 30,
     "metadata": {},
     "output_type": "execute_result"
    }
   ],
   "source": [
    "# the knn model\n",
    "knn = neighbors.KNeighborsClassifier(n_neighbors=3)\n",
    "knn_fit = knn.fit(dataset_train_ftrs, dataset_train_trgt)\n",
    "knn_preds = knn.predict(dataset_test_ftrs)\n",
    "knn_accuracy = metrics.accuracy_score(dataset_test_trgt, knn_preds)\n",
    "knn_accuracy"
   ]
  },
  {
   "cell_type": "code",
   "execution_count": 31,
   "id": "870a9162",
   "metadata": {},
   "outputs": [
    {
     "data": {
      "text/plain": [
       "0.8074074074074075"
      ]
     },
     "execution_count": 31,
     "metadata": {},
     "output_type": "execute_result"
    }
   ],
   "source": [
    "# the naive bayes model\n",
    "nb = naive_bayes.GaussianNB()\n",
    "nb_fit = nb.fit(dataset_train_ftrs, dataset_train_trgt)\n",
    "nb_preds = nb.predict(dataset_test_ftrs)\n",
    "nb_accuracy = metrics.accuracy_score(dataset_test_trgt, nb_preds)\n",
    "nb_accuracy"
   ]
  },
  {
   "cell_type": "code",
   "execution_count": 34,
   "id": "87bf3a7b",
   "metadata": {},
   "outputs": [
    {
     "name": "stdout",
     "output_type": "stream",
     "text": [
      "knn KNeighborsClassifier(n_neighbors=3)\n",
      "nb GaussianNB()\n"
     ]
    }
   ],
   "source": [
    "# the cleaner approach\n",
    "models = {\n",
    "    \"knn\": neighbors.KNeighborsClassifier(n_neighbors=3),\n",
    "    \"nb\": naive_bayes.GaussianNB()\n",
    "}\n",
    "for model_name, model in models.items():\n",
    "    model_name = model\n",
    "    fit = model_name.fit(dataset_train_ftrs, dataset_train_trgt)\n",
    "    preds = model_name.predict(dataset_test_ftrs)\n",
    "    accuracy = metrics.accuracy_score(dataset_test_trgt)\n",
    "    "
   ]
  },
  {
   "cell_type": "code",
   "execution_count": null,
   "id": "d8d40ad1",
   "metadata": {},
   "outputs": [],
   "source": []
  }
 ],
 "metadata": {
  "kernelspec": {
   "display_name": "Python 3 (ipykernel)",
   "language": "python",
   "name": "python3"
  },
  "language_info": {
   "codemirror_mode": {
    "name": "ipython",
    "version": 3
   },
   "file_extension": ".py",
   "mimetype": "text/x-python",
   "name": "python",
   "nbconvert_exporter": "python",
   "pygments_lexer": "ipython3",
   "version": "3.10.9"
  }
 },
 "nbformat": 4,
 "nbformat_minor": 5
}
