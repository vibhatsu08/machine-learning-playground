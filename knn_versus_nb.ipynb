{
 "cells": [
  {
   "cell_type": "code",
   "execution_count": 1,
   "id": "d334909d",
   "metadata": {},
   "outputs": [],
   "source": [
    "# seeing the difference in the results between the knn model and the nb model."
   ]
  },
  {
   "cell_type": "code",
   "execution_count": 2,
   "id": "0db8a66b",
   "metadata": {},
   "outputs": [],
   "source": [
    "# importing the necessary modules from the sklearn library\n",
    "from sklearn import (\n",
    "    datasets, metrics, model_selection as skms, neighbors, naive_bayes\n",
    ")"
   ]
  },
  {
   "cell_type": "code",
   "execution_count": 4,
   "id": "5a8a2c94",
   "metadata": {},
   "outputs": [],
   "source": [
    "# loading the iris dataset.\n",
    "dataset = datasets.load_iris()"
   ]
  },
  {
   "cell_type": "code",
   "execution_count": 8,
   "id": "8a423a57",
   "metadata": {},
   "outputs": [],
   "source": [
    "# splitting the dataset into the training features, target variables, and the testing features, testing variables.\n",
    "(dataset_train_ftrs, dataset_test_ftrs, dataset_train_trgt, dataset_test_trgt) = skms.train_test_split(dataset.data, dataset.target, test_size=0.9, random_state=42)"
   ]
  },
  {
   "cell_type": "code",
   "execution_count": 16,
   "id": "7cd225aa",
   "metadata": {},
   "outputs": [
    {
     "data": {
      "text/plain": [
       "0.9629629629629629"
      ]
     },
     "execution_count": 16,
     "metadata": {},
     "output_type": "execute_result"
    }
   ],
   "source": [
    "# the knn model\n",
    "knn = neighbors.KNeighborsClassifier(n_neighbors=3)\n",
    "knn_fit = knn.fit(dataset_train_ftrs, dataset_train_trgt)\n",
    "knn_preds = knn.predict(dataset_test_ftrs)\n",
    "knn_accuracy = metrics.accuracy_score(dataset_test_trgt, knn_preds)\n",
    "knn_accuracy"
   ]
  },
  {
   "cell_type": "code",
   "execution_count": null,
   "id": "d4b9e4d5",
   "metadata": {},
   "outputs": [],
   "source": [
    "# the naive bayes model\n",
    "nb = naive_bayes.GaussianNB()\n",
    "nb_fit = nb.fit(dataset_train_ftrs, dataset_train_trgt)\n",
    "nb_predict = "
   ]
  }
 ],
 "metadata": {
  "kernelspec": {
   "display_name": "Python 3 (ipykernel)",
   "language": "python",
   "name": "python3"
  },
  "language_info": {
   "codemirror_mode": {
    "name": "ipython",
    "version": 3
   },
   "file_extension": ".py",
   "mimetype": "text/x-python",
   "name": "python",
   "nbconvert_exporter": "python",
   "pygments_lexer": "ipython3",
   "version": "3.10.9"
  }
 },
 "nbformat": 4,
 "nbformat_minor": 5
}
