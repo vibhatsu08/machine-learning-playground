{
 "cells": [
  {
   "cell_type": "code",
   "execution_count": 49,
   "id": "593903c8",
   "metadata": {},
   "outputs": [],
   "source": [
    "import numpy as np\n",
    "import pandas as pd\n",
    "import matplotlib.pyplot as plt\n",
    "from sklearn import (\n",
    "    datasets, metrics, model_selection as skms, linear_model, neighbors\n",
    ")"
   ]
  },
  {
   "cell_type": "code",
   "execution_count": 73,
   "id": "d62a738f",
   "metadata": {},
   "outputs": [
    {
     "data": {
      "text/plain": [
       "(array([-1.57894737, -0.52631579,  8.94736842,  6.84210526, -2.63157895,\n",
       "        10.        ,  2.63157895, -3.68421053, -6.84210526,  5.78947368]),\n",
       " array([ -7.89473684, -10.        ,  -5.78947368,   7.89473684,\n",
       "          1.57894737,   3.68421053,   4.73684211,  -4.73684211,\n",
       "          0.52631579,  -8.94736842]),\n",
       " array([  2.24061277,  -2.03843088, 157.13229091,  92.07109663,\n",
       "         12.59853119, 198.80191517,   9.64031403,  25.28206448,\n",
       "         90.24756932,  64.50982236]),\n",
       " array([123.30375209, 198.34795935,  62.05605335, 120.94448303,\n",
       "          2.74149712,  24.60892452,  42.70872909,  41.53776146,\n",
       "         -3.03938283, 158.33709815]))"
      ]
     },
     "execution_count": 73,
     "metadata": {},
     "output_type": "execute_result"
    }
   ],
   "source": [
    "# creating the synthetic dataset\n",
    "N = 20\n",
    "features = np.linspace(-10, 10, num=N)\n",
    "targets = 2*features**2 - 3 + np.random.uniform(-2, 2, N)\n",
    "(train_ftrs, train_trgt, test_ftrs, test_trgt) = skms.train_test_split(features, targets, test_size=N//2)\n",
    "train_ftrs, train_trgt, test_ftrs, test_trgt"
   ]
  },
  {
   "cell_type": "code",
   "execution_count": 74,
   "id": "c608f51f",
   "metadata": {},
   "outputs": [
    {
     "data": {
      "text/html": [
       "<div>\n",
       "<style scoped>\n",
       "    .dataframe tbody tr th:only-of-type {\n",
       "        vertical-align: middle;\n",
       "    }\n",
       "\n",
       "    .dataframe tbody tr th {\n",
       "        vertical-align: top;\n",
       "    }\n",
       "\n",
       "    .dataframe thead th {\n",
       "        text-align: right;\n",
       "    }\n",
       "</style>\n",
       "<table border=\"1\" class=\"dataframe\">\n",
       "  <thead>\n",
       "    <tr style=\"text-align: right;\">\n",
       "      <th></th>\n",
       "      <th>0</th>\n",
       "      <th>1</th>\n",
       "      <th>2</th>\n",
       "      <th>3</th>\n",
       "      <th>4</th>\n",
       "      <th>5</th>\n",
       "      <th>6</th>\n",
       "      <th>7</th>\n",
       "      <th>8</th>\n",
       "      <th>9</th>\n",
       "    </tr>\n",
       "  </thead>\n",
       "  <tbody>\n",
       "    <tr>\n",
       "      <th>features</th>\n",
       "      <td>-1.578947</td>\n",
       "      <td>-0.526316</td>\n",
       "      <td>8.947368</td>\n",
       "      <td>6.842105</td>\n",
       "      <td>-2.631579</td>\n",
       "      <td>10.000000</td>\n",
       "      <td>2.631579</td>\n",
       "      <td>-3.684211</td>\n",
       "      <td>-6.842105</td>\n",
       "      <td>5.789474</td>\n",
       "    </tr>\n",
       "    <tr>\n",
       "      <th>targets</th>\n",
       "      <td>-7.894737</td>\n",
       "      <td>-10.000000</td>\n",
       "      <td>-5.789474</td>\n",
       "      <td>7.894737</td>\n",
       "      <td>1.578947</td>\n",
       "      <td>3.684211</td>\n",
       "      <td>4.736842</td>\n",
       "      <td>-4.736842</td>\n",
       "      <td>0.526316</td>\n",
       "      <td>-8.947368</td>\n",
       "    </tr>\n",
       "  </tbody>\n",
       "</table>\n",
       "</div>"
      ],
      "text/plain": [
       "                 0          1         2         3         4          5  \\\n",
       "features -1.578947  -0.526316  8.947368  6.842105 -2.631579  10.000000   \n",
       "targets  -7.894737 -10.000000 -5.789474  7.894737  1.578947   3.684211   \n",
       "\n",
       "                 6         7         8         9  \n",
       "features  2.631579 -3.684211 -6.842105  5.789474  \n",
       "targets   4.736842 -4.736842  0.526316 -8.947368  "
      ]
     },
     "metadata": {},
     "output_type": "display_data"
    }
   ],
   "source": [
    "# displaying the dataframe based on the above training features and targets.\n",
    "display(pd.DataFrame(\n",
    "    {\n",
    "        \"features\": train_ftrs,\n",
    "        \"targets\": train_trgt\n",
    "    }\n",
    ").T)"
   ]
  },
  {
   "cell_type": "code",
   "execution_count": 67,
   "id": "da66bf92",
   "metadata": {},
   "outputs": [
    {
     "data": {
      "text/plain": [
       "[<matplotlib.lines.Line2D at 0x1682a6e30>]"
      ]
     },
     "execution_count": 67,
     "metadata": {},
     "output_type": "execute_result"
    },
    {
     "data": {
      "image/png": "[encoded data removed]",
      "text/plain": [
       "<Figure size 640x480 with 1 Axes>"
      ]
     },
     "metadata": {},
     "output_type": "display_data"
    }
   ],
   "source": [
    "# plotting the dataset\n",
    "plt.plot(train_ftrs, train_trgt, \"bo\")\n",
    "plt.plot(test_ftrs, np.zeros_like(test_ftrs), \"r+\")\n",
    "# training set is in blue dots.\n",
    "# the red pluses show the input feature values for the test set."
   ]
  },
  {
   "cell_type": "code",
   "execution_count": 68,
   "id": "efbef72b",
   "metadata": {},
   "outputs": [
    {
     "data": {
      "text/plain": [
       "array([-8.82761005, -5.2996001 , -1.32638849])"
      ]
     },
     "execution_count": 68,
     "metadata": {},
     "output_type": "execute_result"
    }
   ],
   "source": [
    "skmodel = linear_model.LinearRegression()\n",
    "fit = skmodel.fit(train_ftrs.reshape(-1, 1), train_trgt)\n",
    "predictions = skmodel.predict(test_ftrs.reshape(-1, 1))\n",
    "predictions[:3]"
   ]
  },
  {
   "cell_type": "code",
   "execution_count": 69,
   "id": "0e738956",
   "metadata": {},
   "outputs": [],
   "source": [
    "# manually manipulating code complexity."
   ]
  },
  {
   "cell_type": "code",
   "execution_count": 70,
   "id": "5b5251ca",
   "metadata": {},
   "outputs": [
    {
     "data": {
      "text/plain": [
       "array([-8.82761005, -5.2996001 , -1.32638849])"
      ]
     },
     "execution_count": 70,
     "metadata": {},
     "output_type": "execute_result"
    }
   ],
   "source": [
    "# using the polyfit routine from the numpy library.\n",
    "# to fit-predict-evaluate a 1d polynomial. (a line)\n",
    "model_oneD = np.poly1d(np.polyfit(train_ftrs, train_trgt, 1))\n",
    "predictions_oneD = model_oneD(test_ftrs)\n",
    "predictions_oneD[:3]"
   ]
  },
  {
   "cell_type": "code",
   "execution_count": 71,
   "id": "260be94e",
   "metadata": {},
   "outputs": [
    {
     "name": "stdout",
     "output_type": "stream",
     "text": [
      "all close? True\n",
      "RMSE of the lr model : 89.10945696431448 \n",
      "RMSE of the lr model : 89.10945696431448 \n"
     ]
    }
   ],
   "source": [
    "# checking if the output from the lr model is same as that from the polyfit model.\n",
    "print(f\"all close? {np.allclose(predictions, predictions_oneD)}\")\n",
    "# calculating the RMSE of these models.\n",
    "print(f\"RMSE of the lr model : {np.sqrt(metrics.mean_squared_error(test_trgt, predictions))} \")\n",
    "print(f\"RMSE of the lr model : {np.sqrt(metrics.mean_squared_error(test_trgt, predictions_oneD))} \")"
   ]
  },
  {
   "cell_type": "code",
   "execution_count": 72,
   "id": "56a7a719",
   "metadata": {},
   "outputs": [
    {
     "name": "stdout",
     "output_type": "stream",
     "text": [
      "RMSE of the degree-2 model : 558.8877676785187\n"
     ]
    }
   ],
   "source": [
    "# experimenting with a degree 2 polynomial, which is a parabola.\n",
    "model_twoD = np.poly1d(np.polyfit(train_ftrs, train_trgt, 2))\n",
    "predictions_twoD = model_twoD(test_ftrs)\n",
    "predictions_twoD[:3]\n",
    "# now calculating the RMSE of the degree 2 polynomial model.\n",
    "print(f\"RMSE of the degree-2 model : {np.sqrt(metrics.mean_squared_error(test_trgt, predictions_twoD))}\")"
   ]
  }
 ],
 "metadata": {
  "kernelspec": {
   "display_name": "Python 3 (ipykernel)",
   "language": "python",
   "name": "python3"
  },
  "language_info": {
   "codemirror_mode": {
    "name": "ipython",
    "version": 3
   },
   "file_extension": ".py",
   "mimetype": "text/x-python",
   "name": "python",
   "nbconvert_exporter": "python",
   "pygments_lexer": "ipython3",
   "version": "3.10.9"
  }
 },
 "nbformat": 4,
 "nbformat_minor": 5
}
