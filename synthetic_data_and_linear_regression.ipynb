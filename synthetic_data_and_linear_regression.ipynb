{
 "cells": [
  {
   "cell_type": "code",
   "execution_count": 1,
   "id": "593903c8",
   "metadata": {},
   "outputs": [],
   "source": [
    "import numpy as np\n",
    "import pandas as pd\n",
    "import matplotlib.pyplot as plt\n",
    "from sklearn import (\n",
    "    datasets, metrics, model_selection as skms, linear_model, neighbors\n",
    ")"
   ]
  },
  {
   "cell_type": "code",
   "execution_count": 2,
   "id": "d62a738f",
   "metadata": {},
   "outputs": [
    {
     "data": {
      "text/plain": [
       "(array([ 8.94736842, -8.94736842,  0.52631579,  1.57894737, -3.68421053,\n",
       "        -0.52631579, 10.        ,  4.73684211, -5.78947368,  6.84210526]),\n",
       " array([ -1.57894737,  -7.89473684,  -4.73684211,   7.89473684,\n",
       "        -10.        ,   2.63157895,   5.78947368,   3.68421053,\n",
       "         -2.63157895,  -6.84210526]),\n",
       " array([155.91201336, 157.2981625 ,  -0.73272273,   0.93344948,\n",
       "         24.2077865 ,  -1.31261791, 196.93301144,  42.24503521,\n",
       "         62.17552576,  90.61400114]),\n",
       " array([  0.28124299, 120.93187244,  42.50369679, 120.32273234,\n",
       "        196.37895833,   9.49461241,  64.93657049,  24.68956372,\n",
       "          9.42820224,  91.63503897]))"
      ]
     },
     "execution_count": 2,
     "metadata": {},
     "output_type": "execute_result"
    }
   ],
   "source": [
    "# creating the synthetic dataset\n",
    "N = 20\n",
    "features = np.linspace(-10, 10, num=N)\n",
    "targets = 2*features ** 2 - 3 + np.random.uniform(-2, 2, N)\n",
    "(train_ftrs, train_trgt, test_ftrs, test_trgt) = skms.train_test_split(features, targets, test_size=N//2)\n",
    "train_ftrs, train_trgt, test_ftrs, test_trgt"
   ]
  },
  {
   "cell_type": "code",
   "execution_count": 3,
   "id": "c608f51f",
   "metadata": {},
   "outputs": [
    {
     "data": {
      "text/html": [
       "<div>\n",
       "<style scoped>\n",
       "    .dataframe tbody tr th:only-of-type {\n",
       "        vertical-align: middle;\n",
       "    }\n",
       "\n",
       "    .dataframe tbody tr th {\n",
       "        vertical-align: top;\n",
       "    }\n",
       "\n",
       "    .dataframe thead th {\n",
       "        text-align: right;\n",
       "    }\n",
       "</style>\n",
       "<table border=\"1\" class=\"dataframe\">\n",
       "  <thead>\n",
       "    <tr style=\"text-align: right;\">\n",
       "      <th></th>\n",
       "      <th>0</th>\n",
       "      <th>1</th>\n",
       "      <th>2</th>\n",
       "      <th>3</th>\n",
       "      <th>4</th>\n",
       "      <th>5</th>\n",
       "      <th>6</th>\n",
       "      <th>7</th>\n",
       "      <th>8</th>\n",
       "      <th>9</th>\n",
       "    </tr>\n",
       "  </thead>\n",
       "  <tbody>\n",
       "    <tr>\n",
       "      <th>features</th>\n",
       "      <td>8.947368</td>\n",
       "      <td>-8.947368</td>\n",
       "      <td>0.526316</td>\n",
       "      <td>1.578947</td>\n",
       "      <td>-3.684211</td>\n",
       "      <td>-0.526316</td>\n",
       "      <td>10.000000</td>\n",
       "      <td>4.736842</td>\n",
       "      <td>-5.789474</td>\n",
       "      <td>6.842105</td>\n",
       "    </tr>\n",
       "    <tr>\n",
       "      <th>targets</th>\n",
       "      <td>-1.578947</td>\n",
       "      <td>-7.894737</td>\n",
       "      <td>-4.736842</td>\n",
       "      <td>7.894737</td>\n",
       "      <td>-10.000000</td>\n",
       "      <td>2.631579</td>\n",
       "      <td>5.789474</td>\n",
       "      <td>3.684211</td>\n",
       "      <td>-2.631579</td>\n",
       "      <td>-6.842105</td>\n",
       "    </tr>\n",
       "  </tbody>\n",
       "</table>\n",
       "</div>"
      ],
      "text/plain": [
       "                 0         1         2         3          4         5  \\\n",
       "features  8.947368 -8.947368  0.526316  1.578947  -3.684211 -0.526316   \n",
       "targets  -1.578947 -7.894737 -4.736842  7.894737 -10.000000  2.631579   \n",
       "\n",
       "                  6         7         8         9  \n",
       "features  10.000000  4.736842 -5.789474  6.842105  \n",
       "targets    5.789474  3.684211 -2.631579 -6.842105  "
      ]
     },
     "metadata": {},
     "output_type": "display_data"
    }
   ],
   "source": [
    "# displaying the dataframe based on the above training features and targets.\n",
    "display(pd.DataFrame(\n",
    "    {\n",
    "        \"features\": train_ftrs,\n",
    "        \"targets\": train_trgt\n",
    "    }\n",
    ").T)"
   ]
  },
  {
   "cell_type": "code",
   "execution_count": 4,
   "id": "da66bf92",
   "metadata": {},
   "outputs": [
    {
     "data": {
      "text/plain": [
       "[<matplotlib.lines.Line2D at 0x14f4444c0>]"
      ]
     },
     "execution_count": 4,
     "metadata": {},
     "output_type": "execute_result"
    },
    {
     "data": {
      "image/png": "[encoded data removed]",
      "text/plain": [
       "<Figure size 640x480 with 1 Axes>"
      ]
     },
     "metadata": {},
     "output_type": "display_data"
    }
   ],
   "source": [
    "# plotting the dataset\n",
    "plt.plot(train_ftrs, train_trgt, \"bo\")\n",
    "plt.plot(test_ftrs, np.zeros_like(test_ftrs), \"r+\")\n",
    "# training set is in blue dots.\n",
    "# the red pluses show the input feature values for the test set."
   ]
  },
  {
   "cell_type": "code",
   "execution_count": 6,
   "id": "efbef72b",
   "metadata": {},
   "outputs": [
    {
     "data": {
      "text/plain": [
       "array([69.06852335, 69.70029403, -2.32606766])"
      ]
     },
     "execution_count": 6,
     "metadata": {},
     "output_type": "execute_result"
    }
   ],
   "source": [
    "skmodel = linear_model.LinearRegression()\n",
    "fit = skmodel.fit(train_ftrs.reshape(-1, 1), train_trgt)\n",
    "predictions = skmodel.predict(test_ftrs.reshape(-1, 1))\n",
    "predictions[:3]"
   ]
  },
  {
   "cell_type": "code",
   "execution_count": 7,
   "id": "0e738956",
   "metadata": {},
   "outputs": [],
   "source": [
    "# manually manipulating code complexity."
   ]
  },
  {
   "cell_type": "code",
   "execution_count": 13,
   "id": "fff340a1",
   "metadata": {},
   "outputs": [
    {
     "data": {
      "text/plain": [
       "array([69.06852335, 69.70029403, -2.32606766])"
      ]
     },
     "execution_count": 13,
     "metadata": {},
     "output_type": "execute_result"
    }
   ],
   "source": [
    "# using the polyfit routine from the numpy library.\n",
    "# to fit-predict-evaluate a 1d polynomial. (a line)\n",
    "model_oneD = np.poly1d(np.polyfit(train_ftrs, train_trgt, 1))\n",
    "predictions_oneD = model_oneD(test_ftrs)\n",
    "predictions_oneD[:3]"
   ]
  },
  {
   "cell_type": "code",
   "execution_count": 14,
   "id": "5ac02da2",
   "metadata": {},
   "outputs": [
    {
     "name": "stdout",
     "output_type": "stream",
     "text": [
      "all close? True\n"
     ]
    }
   ],
   "source": [
    "# checking if the output from the lr model is same as that from the polyfit model.\n",
    "print(f\"all close? {np.allclose(predictions, predictions_oneD)}\")\n",
    "# calculating the RMSE of these models.\n",
    "print(f\"RMSE of the lr model : {np.sqrt(metrics.mean_squared_error())} \")"
   ]
  },
  {
   "cell_type": "code",
   "execution_count": null,
   "id": "997673e5",
   "metadata": {},
   "outputs": [],
   "source": []
  }
 ],
 "metadata": {
  "kernelspec": {
   "display_name": "Python 3 (ipykernel)",
   "language": "python",
   "name": "python3"
  },
  "language_info": {
   "codemirror_mode": {
    "name": "ipython",
    "version": 3
   },
   "file_extension": ".py",
   "mimetype": "text/x-python",
   "name": "python",
   "nbconvert_exporter": "python",
   "pygments_lexer": "ipython3",
   "version": "3.10.9"
  }
 },
 "nbformat": 4,
 "nbformat_minor": 5
}
