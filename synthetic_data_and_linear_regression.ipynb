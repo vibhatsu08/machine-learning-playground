{
 "cells": [
  {
   "cell_type": "code",
   "execution_count": 15,
   "id": "593903c8",
   "metadata": {},
   "outputs": [],
   "source": [
    "import numpy as np\n",
    "import pandas as pd\n",
    "import matplotlib.pyplot as plt\n",
    "from sklearn import (\n",
    "    datasets, metrics, model_selection as skms, linear_model, neighbors\n",
    ")"
   ]
  },
  {
   "cell_type": "code",
   "execution_count": 68,
   "id": "d62a738f",
   "metadata": {},
   "outputs": [
    {
     "data": {
      "text/plain": [
       "(array([  4.73684211,   3.68421053,  -6.84210526,  -8.94736842,\n",
       "          7.89473684,  -1.57894737,   8.94736842,   6.84210526,\n",
       "        -10.        ,   2.63157895]),\n",
       " array([10.        ,  0.52631579, -0.52631579,  5.78947368, -3.68421053,\n",
       "        -4.73684211, -7.89473684, -5.78947368, -2.63157895,  1.57894737]),\n",
       " array([ 40.20010561,  25.24687693,  91.56735842, 158.69687817,\n",
       "        122.96992414,   1.49768408, 158.62688117,  92.20791769,\n",
       "        197.66602286,  10.68993335]),\n",
       " array([195.77522044,  -2.75618122,  -1.10678631,  63.07499265,\n",
       "         23.93740917,  40.03664256, 123.12248731,  64.02512802,\n",
       "         10.53793208,   0.24877925]))"
      ]
     },
     "execution_count": 68,
     "metadata": {},
     "output_type": "execute_result"
    }
   ],
   "source": [
    "# creating the synthetic dataset\n",
    "N = 20\n",
    "features = np.linspace(-10, 10, num=N)\n",
    "targets = 2*features ** 2 - 3 + np.random.uniform(-2, 2, N)\n",
    "(train_ftrs, train_trgt, test_ftrs, test_trgt) = skms.train_test_split(features, targets, test_size=N//2)\n",
    "train_ftrs, train_trgt, test_ftrs, test_trgt"
   ]
  },
  {
   "cell_type": "code",
   "execution_count": 75,
   "id": "c608f51f",
   "metadata": {},
   "outputs": [
    {
     "data": {
      "text/html": [
       "<div>\n",
       "<style scoped>\n",
       "    .dataframe tbody tr th:only-of-type {\n",
       "        vertical-align: middle;\n",
       "    }\n",
       "\n",
       "    .dataframe tbody tr th {\n",
       "        vertical-align: top;\n",
       "    }\n",
       "\n",
       "    .dataframe thead th {\n",
       "        text-align: right;\n",
       "    }\n",
       "</style>\n",
       "<table border=\"1\" class=\"dataframe\">\n",
       "  <thead>\n",
       "    <tr style=\"text-align: right;\">\n",
       "      <th></th>\n",
       "      <th>0</th>\n",
       "      <th>1</th>\n",
       "      <th>2</th>\n",
       "      <th>3</th>\n",
       "      <th>4</th>\n",
       "      <th>5</th>\n",
       "      <th>6</th>\n",
       "      <th>7</th>\n",
       "      <th>8</th>\n",
       "      <th>9</th>\n",
       "    </tr>\n",
       "  </thead>\n",
       "  <tbody>\n",
       "    <tr>\n",
       "      <th>features</th>\n",
       "      <td>4.736842</td>\n",
       "      <td>3.684211</td>\n",
       "      <td>-6.842105</td>\n",
       "      <td>-8.947368</td>\n",
       "      <td>7.894737</td>\n",
       "      <td>-1.578947</td>\n",
       "      <td>8.947368</td>\n",
       "      <td>6.842105</td>\n",
       "      <td>-10.000000</td>\n",
       "      <td>2.631579</td>\n",
       "    </tr>\n",
       "    <tr>\n",
       "      <th>targets</th>\n",
       "      <td>10.000000</td>\n",
       "      <td>0.526316</td>\n",
       "      <td>-0.526316</td>\n",
       "      <td>5.789474</td>\n",
       "      <td>-3.684211</td>\n",
       "      <td>-4.736842</td>\n",
       "      <td>-7.894737</td>\n",
       "      <td>-5.789474</td>\n",
       "      <td>-2.631579</td>\n",
       "      <td>1.578947</td>\n",
       "    </tr>\n",
       "  </tbody>\n",
       "</table>\n",
       "</div>"
      ],
      "text/plain": [
       "                  0         1         2         3         4         5  \\\n",
       "features   4.736842  3.684211 -6.842105 -8.947368  7.894737 -1.578947   \n",
       "targets   10.000000  0.526316 -0.526316  5.789474 -3.684211 -4.736842   \n",
       "\n",
       "                 6         7          8         9  \n",
       "features  8.947368  6.842105 -10.000000  2.631579  \n",
       "targets  -7.894737 -5.789474  -2.631579  1.578947  "
      ]
     },
     "metadata": {},
     "output_type": "display_data"
    }
   ],
   "source": [
    "# displaying the dataframe based on the above training features and targets.\n",
    "display(pd.DataFrame(\n",
    "    {\n",
    "        \"features\": train_ftrs,\n",
    "        \"targets\": train_trgt\n",
    "    }\n",
    ").T)"
   ]
  },
  {
   "cell_type": "code",
   "execution_count": 70,
   "id": "da66bf92",
   "metadata": {},
   "outputs": [
    {
     "data": {
      "text/plain": [
       "[<matplotlib.lines.Line2D at 0x168a13640>]"
      ]
     },
     "execution_count": 70,
     "metadata": {},
     "output_type": "execute_result"
    },
    {
     "data": {
      "image/png": "[encoded data removed]",
      "text/plain": [
       "<Figure size 640x480 with 1 Axes>"
      ]
     },
     "metadata": {},
     "output_type": "display_data"
    }
   ],
   "source": [
    "# plotting the dataset\n",
    "plt.plot(train_ftrs, train_trgt, \"bo\")\n",
    "plt.plot(test_ftrs, np.zeros_like(test_ftrs), \"r+\")\n",
    "# training set is in blue dots.\n",
    "# the red pluses show the input feature values for the test set."
   ]
  },
  {
   "cell_type": "code",
   "execution_count": 74,
   "id": "efbef72b",
   "metadata": {},
   "outputs": [
    {
     "data": {
      "text/plain": [
       "array([ -8.94397368,  -5.83416713, -19.62676484])"
      ]
     },
     "execution_count": 74,
     "metadata": {},
     "output_type": "execute_result"
    }
   ],
   "source": [
    "skmodel = linear_model.LinearRegression()\n",
    "fit = skmodel.fit(train_ftrs.reshape(-1, 1), train_trgt)\n",
    "predictions = skmodel.predict(test_ftrs.reshape(-1, 1))\n",
    "predictions[:3]"
   ]
  },
  {
   "cell_type": "code",
   "execution_count": null,
   "id": "0e738956",
   "metadata": {},
   "outputs": [],
   "source": []
  }
 ],
 "metadata": {
  "kernelspec": {
   "display_name": "Python 3 (ipykernel)",
   "language": "python",
   "name": "python3"
  },
  "language_info": {
   "codemirror_mode": {
    "name": "ipython",
    "version": 3
   },
   "file_extension": ".py",
   "mimetype": "text/x-python",
   "name": "python",
   "nbconvert_exporter": "python",
   "pygments_lexer": "ipython3",
   "version": "3.10.9"
  }
 },
 "nbformat": 4,
 "nbformat_minor": 5
}
