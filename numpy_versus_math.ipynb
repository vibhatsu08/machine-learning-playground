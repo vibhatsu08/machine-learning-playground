{
 "cells": [
  {
   "cell_type": "code",
   "execution_count": 1,
   "id": "3cbbd402",
   "metadata": {},
   "outputs": [],
   "source": [
    "import numpy as np\n",
    "import pandas as pd\n",
    "import matplotlib.pyplot as plt"
   ]
  },
  {
   "cell_type": "code",
   "execution_count": 4,
   "id": "fb6d7588",
   "metadata": {},
   "outputs": [
    {
     "data": {
      "text/plain": [
       "(array([0, 1, 2, 3, 4]), 30)"
      ]
     },
     "execution_count": 4,
     "metadata": {},
     "output_type": "execute_result"
    }
   ],
   "source": [
    "oned_vec = np.arange(5)\n",
    "oned_vec, np.dot(oned_vec, oned_vec)"
   ]
  },
  {
   "cell_type": "code",
   "execution_count": 12,
   "id": "0a2679e6",
   "metadata": {},
   "outputs": [
    {
     "data": {
      "text/plain": [
       "(array([[0, 1, 2, 3, 4]]),\n",
       " array([[ 0],\n",
       "        [10],\n",
       "        [20],\n",
       "        [30],\n",
       "        [40]]),\n",
       " array([[300]]),\n",
       " array([[  0,   0,   0,   0,   0],\n",
       "        [  0,  10,  20,  30,  40],\n",
       "        [  0,  20,  40,  60,  80],\n",
       "        [  0,  30,  60,  90, 120],\n",
       "        [  0,  40,  80, 120, 160]]))"
      ]
     },
     "execution_count": 12,
     "metadata": {},
     "output_type": "execute_result"
    }
   ],
   "source": [
    "row_vec = np.arange(5).reshape(1, 5)\n",
    "col_vec = np.arange(0, 50, 10).reshape(5, 1)\n",
    "row_vec, col_vec, np.dot(row_vec, col_vec), np.dot(col_vec, row_vec)"
   ]
  },
  {
   "cell_type": "code",
   "execution_count": 15,
   "id": "5d3cdc08",
   "metadata": {},
   "outputs": [
    {
     "data": {
      "text/plain": [
       "(array([[ 0],\n",
       "        [10],\n",
       "        [20],\n",
       "        [30],\n",
       "        [40]]),\n",
       " array([[0, 1, 2, 3, 4]]))"
      ]
     },
     "execution_count": 15,
     "metadata": {},
     "output_type": "execute_result"
    }
   ],
   "source": [
    "col_vec = np.arange(0, 50, 10).reshape(5, 1)\n",
    "row_vec = np.arange(0, 5).reshape(1, 5)\n",
    "col_vec, row_vec"
   ]
  },
  {
   "cell_type": "code",
   "execution_count": 17,
   "id": "8df5ca8f",
   "metadata": {},
   "outputs": [
    {
     "data": {
      "text/plain": [
       "array([0, 1, 2, 3, 4])"
      ]
     },
     "execution_count": 17,
     "metadata": {},
     "output_type": "execute_result"
    }
   ],
   "source": [
    "oned_vec = np.arange(5)\n",
    "oned_vec"
   ]
  },
  {
   "cell_type": "code",
   "execution_count": 19,
   "id": "ec7aa78e",
   "metadata": {},
   "outputs": [
    {
     "data": {
      "text/plain": [
       "array([300])"
      ]
     },
     "execution_count": 19,
     "metadata": {},
     "output_type": "execute_result"
    }
   ],
   "source": [
    "np.dot(oned_vec, col_vec)"
   ]
  },
  {
   "cell_type": "code",
   "execution_count": 21,
   "id": "0ce310b3",
   "metadata": {},
   "outputs": [
    {
     "data": {
      "text/plain": [
       "((5,), (5, 1))"
      ]
     },
     "execution_count": 21,
     "metadata": {},
     "output_type": "execute_result"
    }
   ],
   "source": [
    "oned_vec.shape, col_vec.shape"
   ]
  },
  {
   "cell_type": "code",
   "execution_count": 24,
   "id": "caac8c69",
   "metadata": {},
   "outputs": [
    {
     "data": {
      "text/plain": [
       "(5,)"
      ]
     },
     "execution_count": 24,
     "metadata": {},
     "output_type": "execute_result"
    }
   ],
   "source": [
    "numbers = np.arange(5)\n",
    "numbers.shape"
   ]
  },
  {
   "cell_type": "code",
   "execution_count": 26,
   "id": "c1e19779",
   "metadata": {},
   "outputs": [
    {
     "data": {
      "text/plain": [
       "array([0, 1, 2, 3, 4])"
      ]
     },
     "execution_count": 26,
     "metadata": {},
     "output_type": "execute_result"
    }
   ],
   "source": [
    "# transposing the above 1D array\n",
    "numbers.T"
   ]
  },
  {
   "cell_type": "code",
   "execution_count": 31,
   "id": "a91dbda7",
   "metadata": {},
   "outputs": [
    {
     "data": {
      "text/plain": [
       "array([[ 0],\n",
       "       [10],\n",
       "       [20],\n",
       "       [30],\n",
       "       [40]])"
      ]
     },
     "execution_count": 31,
     "metadata": {},
     "output_type": "execute_result"
    }
   ],
   "source": [
    "numbers_2d = np.arange(0, 50, 10).reshape(5, 1)\n",
    "numbers_2d"
   ]
  },
  {
   "cell_type": "code",
   "execution_count": 33,
   "id": "ab67a4de",
   "metadata": {},
   "outputs": [
    {
     "data": {
      "text/plain": [
       "True"
      ]
     },
     "execution_count": 33,
     "metadata": {},
     "output_type": "execute_result"
    }
   ],
   "source": [
    "# using the np.allclose function which takes in three parameters, the first element, the second element, and the third is the tolerance element which could be wither the relative tolerance or the absolute tolerance.\n",
    "(1.1 + 2.2 == 3.3)\n",
    "# this above prints as false, but\n",
    "np.allclose(1.1 + 2.2, 3.3)\n",
    "# this returns as true, why\n",
    "# because using the allclose function accepts the value as long as it is in the tolerance limit, if not used, specifically when adding floating point numbers, the machine epsilon can cause some errors.\n",
    "# machine epsilon is the smallest value that can be added to 1, without actually changing its value. Machine epsilon plays an important role in the addition of floating point numbers, if the difference between two floating point numbers is less than machine epsilon then these two numbers are considered to be equal.\n"
   ]
  },
  {
   "cell_type": "code",
   "execution_count": null,
   "id": "b272f9e5",
   "metadata": {},
   "outputs": [],
   "source": []
  }
 ],
 "metadata": {
  "kernelspec": {
   "display_name": "Python 3 (ipykernel)",
   "language": "python",
   "name": "python3"
  },
  "language_info": {
   "codemirror_mode": {
    "name": "ipython",
    "version": 3
   },
   "file_extension": ".py",
   "mimetype": "text/x-python",
   "name": "python",
   "nbconvert_exporter": "python",
   "pygments_lexer": "ipython3",
   "version": "3.10.9"
  }
 },
 "nbformat": 4,
 "nbformat_minor": 5
}
