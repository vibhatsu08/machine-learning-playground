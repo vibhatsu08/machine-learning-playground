{
 "cells": [
  {
   "cell_type": "code",
   "execution_count": 18,
   "id": "f5a8c947",
   "metadata": {},
   "outputs": [],
   "source": [
    "import numpy as np\n",
    "import pandas as pd"
   ]
  },
  {
   "cell_type": "code",
   "execution_count": 4,
   "id": "86139f70",
   "metadata": {},
   "outputs": [],
   "source": [
    "quantity = np.array([2, 12, 3])\n",
    "costs = np.array([12.5, .5, 1.75])"
   ]
  },
  {
   "cell_type": "code",
   "execution_count": 5,
   "id": "90b53a56",
   "metadata": {},
   "outputs": [
    {
     "data": {
      "text/plain": [
       "36.25"
      ]
     },
     "execution_count": 5,
     "metadata": {},
     "output_type": "execute_result"
    }
   ],
   "source": [
    "# performing element wise matrix multiplication using numpy arrays.\n",
    "total_sum = np.sum(quantity * costs)\n",
    "total_sum"
   ]
  },
  {
   "cell_type": "code",
   "execution_count": 7,
   "id": "b719217a",
   "metadata": {},
   "outputs": [
    {
     "data": {
      "text/plain": [
       "36.25"
      ]
     },
     "execution_count": 7,
     "metadata": {},
     "output_type": "execute_result"
    }
   ],
   "source": [
    "# performing dot multiplication on two numpy arrays.\n",
    "total_sum = np.dot(quantity, costs)\n",
    "total_sum"
   ]
  },
  {
   "cell_type": "code",
   "execution_count": 16,
   "id": "8bea79fb",
   "metadata": {},
   "outputs": [
    {
     "data": {
      "text/plain": [
       "20.0"
      ]
     },
     "execution_count": 16,
     "metadata": {},
     "output_type": "execute_result"
    }
   ],
   "source": [
    "# using the full_like method of numpy.\n",
    "values = np.array([10.0, 20.0, 30.0])\n",
    "weights = np.full_like(values, 1/3)\n",
    "np.dot(values, weights)"
   ]
  },
  {
   "cell_type": "code",
   "execution_count": 17,
   "id": "99a8f4a6",
   "metadata": {},
   "outputs": [
    {
     "data": {
      "text/plain": [
       "55"
      ]
     },
     "execution_count": 17,
     "metadata": {},
     "output_type": "execute_result"
    }
   ],
   "source": [
    "# sum of squares using the np.dot.\n",
    "values = [1, 2, 3, 4, 5]\n",
    "np.dot(values, values)"
   ]
  },
  {
   "cell_type": "code",
   "execution_count": 26,
   "id": "969f907b",
   "metadata": {},
   "outputs": [
    {
     "data": {
      "text/html": [
       "<div>\n",
       "<style scoped>\n",
       "    .dataframe tbody tr th:only-of-type {\n",
       "        vertical-align: middle;\n",
       "    }\n",
       "\n",
       "    .dataframe tbody tr th {\n",
       "        vertical-align: top;\n",
       "    }\n",
       "\n",
       "    .dataframe thead th {\n",
       "        text-align: right;\n",
       "    }\n",
       "</style>\n",
       "<table border=\"1\" class=\"dataframe\">\n",
       "  <thead>\n",
       "    <tr style=\"text-align: right;\">\n",
       "      <th></th>\n",
       "      <th>errors</th>\n",
       "      <th>squared</th>\n",
       "    </tr>\n",
       "  </thead>\n",
       "  <tbody>\n",
       "    <tr>\n",
       "      <th>0</th>\n",
       "      <td>5.0</td>\n",
       "      <td>25.00</td>\n",
       "    </tr>\n",
       "    <tr>\n",
       "      <th>1</th>\n",
       "      <td>-5.0</td>\n",
       "      <td>25.00</td>\n",
       "    </tr>\n",
       "    <tr>\n",
       "      <th>2</th>\n",
       "      <td>3.2</td>\n",
       "      <td>10.24</td>\n",
       "    </tr>\n",
       "    <tr>\n",
       "      <th>3</th>\n",
       "      <td>-1.1</td>\n",
       "      <td>1.21</td>\n",
       "    </tr>\n",
       "  </tbody>\n",
       "</table>\n",
       "</div>"
      ],
      "text/plain": [
       "   errors  squared\n",
       "0     5.0    25.00\n",
       "1    -5.0    25.00\n",
       "2     3.2    10.24\n",
       "3    -1.1     1.21"
      ]
     },
     "execution_count": 26,
     "metadata": {},
     "output_type": "execute_result"
    }
   ],
   "source": [
    "# using pandas dataframe to display data.\n",
    "# calculating the squared error is basically, error^2 = (predicted - actual)^2, and then add up those calculated values.\n",
    "errors = np.array([5, -5, 3.2, -1.1])\n",
    "pd.DataFrame(\n",
    "    {\n",
    "        \"errors\": errors,\n",
    "        \"squared\": errors * errors\n",
    "#         \"squared\": np.dot(errors, errors)\n",
    "    }\n",
    ")"
   ]
  },
  {
   "cell_type": "code",
   "execution_count": null,
   "id": "e1f76079",
   "metadata": {},
   "outputs": [],
   "source": []
  }
 ],
 "metadata": {
  "kernelspec": {
   "display_name": "Python 3 (ipykernel)",
   "language": "python",
   "name": "python3"
  },
  "language_info": {
   "codemirror_mode": {
    "name": "ipython",
    "version": 3
   },
   "file_extension": ".py",
   "mimetype": "text/x-python",
   "name": "python",
   "nbconvert_exporter": "python",
   "pygments_lexer": "ipython3",
   "version": "3.10.9"
  }
 },
 "nbformat": 4,
 "nbformat_minor": 5
}
