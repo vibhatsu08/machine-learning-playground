{
 "cells": [
  {
   "cell_type": "code",
   "execution_count": 56,
   "id": "fca82b5e",
   "metadata": {},
   "outputs": [],
   "source": [
    "import numpy as np\n",
    "import pandas as pd\n",
    "import matplotlib.pyplot as plt\n",
    "import seaborn as sns\n",
    "from sklearn import (\n",
    "    datasets, metrics, model_selection as skms, linear_model\n",
    ")"
   ]
  },
  {
   "cell_type": "code",
   "execution_count": 57,
   "id": "13aaf824",
   "metadata": {},
   "outputs": [],
   "source": [
    "dataset = datasets.load_diabetes()"
   ]
  },
  {
   "cell_type": "code",
   "execution_count": 58,
   "id": "1275f3af",
   "metadata": {},
   "outputs": [
    {
     "data": {
      "text/html": [
       "<div>\n",
       "<style scoped>\n",
       "    .dataframe tbody tr th:only-of-type {\n",
       "        vertical-align: middle;\n",
       "    }\n",
       "\n",
       "    .dataframe tbody tr th {\n",
       "        vertical-align: top;\n",
       "    }\n",
       "\n",
       "    .dataframe thead th {\n",
       "        text-align: right;\n",
       "    }\n",
       "</style>\n",
       "<table border=\"1\" class=\"dataframe\">\n",
       "  <thead>\n",
       "    <tr style=\"text-align: right;\">\n",
       "      <th>Repeat</th>\n",
       "      <th>0</th>\n",
       "      <th>1</th>\n",
       "      <th>2</th>\n",
       "      <th>3</th>\n",
       "      <th>4</th>\n",
       "      <th>5</th>\n",
       "      <th>6</th>\n",
       "      <th>7</th>\n",
       "      <th>8</th>\n",
       "      <th>9</th>\n",
       "    </tr>\n",
       "  </thead>\n",
       "  <tbody>\n",
       "    <tr>\n",
       "      <th>RMSE</th>\n",
       "      <td>53.500776</td>\n",
       "      <td>54.967917</td>\n",
       "      <td>55.141974</td>\n",
       "      <td>56.455374</td>\n",
       "      <td>57.008706</td>\n",
       "      <td>58.83773</td>\n",
       "      <td>59.208963</td>\n",
       "      <td>59.297878</td>\n",
       "      <td>59.312154</td>\n",
       "      <td>60.121788</td>\n",
       "    </tr>\n",
       "  </tbody>\n",
       "</table>\n",
       "</div>"
      ],
      "text/plain": [
       "Repeat          0          1          2          3          4         5  \\\n",
       "RMSE    53.500776  54.967917  55.141974  56.455374  57.008706  58.83773   \n",
       "\n",
       "Repeat          6          7          8          9  \n",
       "RMSE    59.208963  59.297878  59.312154  60.121788  "
      ]
     },
     "execution_count": 58,
     "metadata": {},
     "output_type": "execute_result"
    }
   ],
   "source": [
    "scores = []\n",
    "for r in range(10):\n",
    "    (train_ftrs, test_ftrs, train_trgt, test_trgt) = skms.train_test_split(dataset.data, dataset.target, test_size=0.25)\n",
    "    model = linear_model.LinearRegression()\n",
    "    fit = model.fit(train_ftrs, train_trgt)\n",
    "    predict = fit.predict(test_ftrs)\n",
    "    score = np.sqrt(metrics.mean_squared_error(test_trgt, predict))\n",
    "    scores.append(score)\n",
    "scores = sorted(scores)\n",
    "dataframe = (pd.DataFrame({\"RMSE\": scores}))\n",
    "dataframe.index.name = \"Repeat\"\n",
    "dataframe.T\n"
   ]
  },
  {
   "cell_type": "code",
   "execution_count": 59,
   "id": "cd387df6",
   "metadata": {},
   "outputs": [
    {
     "data": {
      "text/plain": [
       "Text(16.97222222222222, 0.5, 'RMSE')"
      ]
     },
     "execution_count": 59,
     "metadata": {},
     "output_type": "execute_result"
    },
    {
     "data": {
      "image/png": "[encoded data removed]",
      "text/plain": [
       "<Figure size 400x300 with 1 Axes>"
      ]
     },
     "metadata": {},
     "output_type": "display_data"
    }
   ],
   "source": [
    "ax = plt.figure(figsize=(4, 3)).gca()\n",
    "sns.swarmplot(data=dataframe, ax=ax)\n",
    "ax.set_xlabel(\"Repeated train/test splits\")\n",
    "ax.set_ylabel(\"RMSE\")"
   ]
  },
  {
   "cell_type": "code",
   "execution_count": 60,
   "id": "04b8265d",
   "metadata": {},
   "outputs": [
    {
     "data": {
      "text/html": [
       "<div>\n",
       "<style scoped>\n",
       "    .dataframe tbody tr th:only-of-type {\n",
       "        vertical-align: middle;\n",
       "    }\n",
       "\n",
       "    .dataframe tbody tr th {\n",
       "        vertical-align: top;\n",
       "    }\n",
       "\n",
       "    .dataframe thead th {\n",
       "        text-align: right;\n",
       "    }\n",
       "</style>\n",
       "<table border=\"1\" class=\"dataframe\">\n",
       "  <thead>\n",
       "    <tr style=\"text-align: right;\">\n",
       "      <th></th>\n",
       "      <th>count</th>\n",
       "      <th>mean</th>\n",
       "      <th>std</th>\n",
       "      <th>min</th>\n",
       "      <th>25%</th>\n",
       "      <th>50%</th>\n",
       "      <th>75%</th>\n",
       "      <th>max</th>\n",
       "    </tr>\n",
       "  </thead>\n",
       "  <tbody>\n",
       "    <tr>\n",
       "      <th>RMSE</th>\n",
       "      <td>10.0</td>\n",
       "      <td>57.385326</td>\n",
       "      <td>2.291694</td>\n",
       "      <td>53.500776</td>\n",
       "      <td>55.470324</td>\n",
       "      <td>57.923218</td>\n",
       "      <td>59.275649</td>\n",
       "      <td>60.121788</td>\n",
       "    </tr>\n",
       "  </tbody>\n",
       "</table>\n",
       "</div>"
      ],
      "text/plain": [
       "      count       mean       std        min        25%        50%        75%  \\\n",
       "RMSE   10.0  57.385326  2.291694  53.500776  55.470324  57.923218  59.275649   \n",
       "\n",
       "            max  \n",
       "RMSE  60.121788  "
      ]
     },
     "metadata": {},
     "output_type": "display_data"
    }
   ],
   "source": [
    "display(dataframe.describe().T)"
   ]
  },
  {
   "cell_type": "code",
   "execution_count": 61,
   "id": "bb4653c9",
   "metadata": {},
   "outputs": [
    {
     "data": {
      "text/html": [
       "<div>\n",
       "<style scoped>\n",
       "    .dataframe tbody tr th:only-of-type {\n",
       "        vertical-align: middle;\n",
       "    }\n",
       "\n",
       "    .dataframe tbody tr th {\n",
       "        vertical-align: top;\n",
       "    }\n",
       "\n",
       "    .dataframe thead th {\n",
       "        text-align: right;\n",
       "    }\n",
       "</style>\n",
       "<table border=\"1\" class=\"dataframe\">\n",
       "  <thead>\n",
       "    <tr style=\"text-align: right;\">\n",
       "      <th>Repeat TTS</th>\n",
       "      <th>0</th>\n",
       "      <th>1</th>\n",
       "      <th>2</th>\n",
       "      <th>3</th>\n",
       "      <th>4</th>\n",
       "      <th>5</th>\n",
       "      <th>6</th>\n",
       "      <th>7</th>\n",
       "      <th>8</th>\n",
       "      <th>9</th>\n",
       "    </tr>\n",
       "  </thead>\n",
       "  <tbody>\n",
       "    <tr>\n",
       "      <th>RMSE</th>\n",
       "      <td>47.030239</td>\n",
       "      <td>49.571299</td>\n",
       "      <td>50.747977</td>\n",
       "      <td>51.51528</td>\n",
       "      <td>53.274277</td>\n",
       "      <td>55.145493</td>\n",
       "      <td>55.312585</td>\n",
       "      <td>56.281088</td>\n",
       "      <td>56.832451</td>\n",
       "      <td>59.81689</td>\n",
       "    </tr>\n",
       "  </tbody>\n",
       "</table>\n",
       "</div>"
      ],
      "text/plain": [
       "Repeat TTS          0          1          2         3          4          5  \\\n",
       "RMSE        47.030239  49.571299  50.747977  51.51528  53.274277  55.145493   \n",
       "\n",
       "Repeat TTS          6          7          8         9  \n",
       "RMSE        55.312585  56.281088  56.832451  59.81689  "
      ]
     },
     "execution_count": 61,
     "metadata": {},
     "output_type": "execute_result"
    }
   ],
   "source": [
    "def repeated_train_test_split(model, dataset):\n",
    "    (train_ftrs, test_ftrs, train_trgt, test_trgt) = skms.train_test_split(dataset.data, dataset.target, test_size=0.25)\n",
    "    fit = model.fit(train_ftrs, train_trgt)\n",
    "    predict = fit.predict(test_ftrs)\n",
    "    score = np.sqrt(metrics.mean_squared_error(test_trgt, predict))\n",
    "    return score\n",
    "model = linear_model.LinearRegression()\n",
    "scores = [repeated_train_test_split(model, dataset) for i in range(10)]\n",
    "scores = sorted(scores)\n",
    "dataframe = pd.DataFrame(\n",
    "    {\n",
    "        \"RMSE\": scores\n",
    "    }\n",
    ")\n",
    "dataframe.index.name = \"Repeat TTS\"\n",
    "dataframe.T"
   ]
  },
  {
   "cell_type": "code",
   "execution_count": 62,
   "id": "5a4c1e6a",
   "metadata": {},
   "outputs": [
    {
     "data": {
      "text/plain": [
       "Text(16.97222222222222, 0.5, 'RMSE')"
      ]
     },
     "execution_count": 62,
     "metadata": {},
     "output_type": "execute_result"
    },
    {
     "data": {
      "image/png": "[encoded data removed]",
      "text/plain": [
       "<Figure size 400x300 with 1 Axes>"
      ]
     },
     "metadata": {},
     "output_type": "display_data"
    }
   ],
   "source": [
    "# plotting the above\n",
    "ax = plt.figure(figsize=(4, 3)).gca()\n",
    "sns.swarmplot(data=dataframe, ax=ax)\n",
    "ax.set_xlabel(\"Repeated TTS\")\n",
    "ax.set_ylabel(\"RMSE\")"
   ]
  },
  {
   "cell_type": "code",
   "execution_count": 64,
   "id": "f1903ef3",
   "metadata": {},
   "outputs": [
    {
     "data": {
      "text/html": [
       "<div>\n",
       "<style scoped>\n",
       "    .dataframe tbody tr th:only-of-type {\n",
       "        vertical-align: middle;\n",
       "    }\n",
       "\n",
       "    .dataframe tbody tr th {\n",
       "        vertical-align: top;\n",
       "    }\n",
       "\n",
       "    .dataframe thead th {\n",
       "        text-align: right;\n",
       "    }\n",
       "</style>\n",
       "<table border=\"1\" class=\"dataframe\">\n",
       "  <thead>\n",
       "    <tr style=\"text-align: right;\">\n",
       "      <th></th>\n",
       "      <th>count</th>\n",
       "      <th>mean</th>\n",
       "      <th>std</th>\n",
       "      <th>min</th>\n",
       "      <th>25%</th>\n",
       "      <th>50%</th>\n",
       "      <th>75%</th>\n",
       "      <th>max</th>\n",
       "    </tr>\n",
       "  </thead>\n",
       "  <tbody>\n",
       "    <tr>\n",
       "      <th>RMSE</th>\n",
       "      <td>10.0</td>\n",
       "      <td>53.552758</td>\n",
       "      <td>3.852333</td>\n",
       "      <td>47.030239</td>\n",
       "      <td>50.939803</td>\n",
       "      <td>54.209885</td>\n",
       "      <td>56.038962</td>\n",
       "      <td>59.81689</td>\n",
       "    </tr>\n",
       "  </tbody>\n",
       "</table>\n",
       "</div>"
      ],
      "text/plain": [
       "      count       mean       std        min        25%        50%        75%  \\\n",
       "RMSE   10.0  53.552758  3.852333  47.030239  50.939803  54.209885  56.038962   \n",
       "\n",
       "           max  \n",
       "RMSE  59.81689  "
      ]
     },
     "execution_count": 64,
     "metadata": {},
     "output_type": "execute_result"
    }
   ],
   "source": [
    "dataframe.describe().T"
   ]
  }
 ],
 "metadata": {
  "kernelspec": {
   "display_name": "Python 3 (ipykernel)",
   "language": "python",
   "name": "python3"
  },
  "language_info": {
   "codemirror_mode": {
    "name": "ipython",
    "version": 3
   },
   "file_extension": ".py",
   "mimetype": "text/x-python",
   "name": "python",
   "nbconvert_exporter": "python",
   "pygments_lexer": "ipython3",
   "version": "3.10.9"
  }
 },
 "nbformat": 4,
 "nbformat_minor": 5
}
