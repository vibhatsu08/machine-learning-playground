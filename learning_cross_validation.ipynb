{
 "cells": [
  {
   "cell_type": "code",
   "execution_count": 2,
   "id": "a6e121a2",
   "metadata": {},
   "outputs": [],
   "source": [
    "import numpy as np\n",
    "import pandas as pd\n",
    "import matplotlib.pyplot as plt\n",
    "from sklearn import (\n",
    "    datasets, metrics, model_selection as skms, neighbors\n",
    ")"
   ]
  },
  {
   "cell_type": "code",
   "execution_count": 3,
   "id": "b0c99940",
   "metadata": {},
   "outputs": [],
   "source": [
    "dataset = datasets.load_diabetes()"
   ]
  },
  {
   "cell_type": "code",
   "execution_count": 9,
   "id": "3a9df6bf",
   "metadata": {},
   "outputs": [
    {
     "data": {
      "text/plain": [
       "array([-3206.7541573 , -3426.43134831, -3587.94215909, -3039.49443182,\n",
       "       -3282.60159091])"
      ]
     },
     "execution_count": 9,
     "metadata": {},
     "output_type": "execute_result"
    }
   ],
   "source": [
    "# fitting a 5-fold cv with sklearn.\n",
    "model = neighbors.KNeighborsRegressor(n_neighbors=10)\n",
    "skms.cross_val_score(model, dataset.data, dataset.target, cv=5, scoring=\"neg_mean_squared_error\")"
   ]
  },
  {
   "cell_type": "code",
   "execution_count": 11,
   "id": "3553ebe3",
   "metadata": {},
   "outputs": [
    {
     "data": {
      "text/plain": [
       "array([0.96666667, 1.        , 1.        , 0.93333333, 1.        ])"
      ]
     },
     "execution_count": 11,
     "metadata": {},
     "output_type": "execute_result"
    }
   ],
   "source": [
    "# experimenting with stratification.\n",
    "dataset = datasets.load_iris()\n",
    "model = neighbors.KNeighborsClassifier(n_neighbors=10)\n",
    "skms.cross_val_score(model, dataset.data, dataset.target, cv=5)"
   ]
  },
  {
   "cell_type": "code",
   "execution_count": 24,
   "id": "8c294a56",
   "metadata": {},
   "outputs": [
    {
     "name": "stdout",
     "output_type": "stream",
     "text": [
      "[['dog' 'dog' 'dog']\n",
      " ['cat' 'dog' 'cat']]\n"
     ]
    }
   ],
   "source": [
    "# not stratified\n",
    "pet = np.array([\"cat\", \"dog\", \"cat\", \"dog\", \"dog\", \"dog\"])\n",
    "list_folds = list(skms.KFold(2).split(pet))\n",
    "training_indexes = np.array(list_folds)[:, 0, :]\n",
    "print(pet[training_indexes])"
   ]
  },
  {
   "cell_type": "code",
   "execution_count": 18,
   "id": "f58ccfed",
   "metadata": {},
   "outputs": [
    {
     "name": "stdout",
     "output_type": "stream",
     "text": [
      "[['cat' 'dog' 'dog']\n",
      " ['cat' 'dog' 'dog']]\n"
     ]
    }
   ],
   "source": [
    "# stratified\n",
    "pet = np.array([\"cat\", \"dog\", \"cat\", \"dog\", \"dog\", \"dog\"])\n",
    "indexes = np.array(list(skms.StratifiedKFold(2).split(np.ones_like(pet), pet)))\n",
    "training_indexes = indexes[:, 0, :]\n",
    "print(pet[training_indexes])"
   ]
  },
  {
   "cell_type": "code",
   "execution_count": 23,
   "id": "c39c58c6",
   "metadata": {},
   "outputs": [
    {
     "data": {
      "text/plain": [
       "array([1.        , 1.        , 0.86666667, 0.96666667, 0.76666667])"
      ]
     },
     "execution_count": 23,
     "metadata": {},
     "output_type": "execute_result"
    }
   ],
   "source": [
    "# running non stratified CV.\n",
    "dataset = datasets.load_iris()\n",
    "model = neighbors.KNeighborsClassifier(10)\n",
    "non_strat_kf = skms.KFold(5)\n",
    "skms.cross_val_score(model, dataset.data, dataset.target, cv=non_strat_kf)"
   ]
  },
  {
   "cell_type": "code",
   "execution_count": null,
   "id": "bab68dbf",
   "metadata": {},
   "outputs": [],
   "source": []
  }
 ],
 "metadata": {
  "kernelspec": {
   "display_name": "Python 3 (ipykernel)",
   "language": "python",
   "name": "python3"
  },
  "language_info": {
   "codemirror_mode": {
    "name": "ipython",
    "version": 3
   },
   "file_extension": ".py",
   "mimetype": "text/x-python",
   "name": "python",
   "nbconvert_exporter": "python",
   "pygments_lexer": "ipython3",
   "version": "3.10.9"
  }
 },
 "nbformat": 4,
 "nbformat_minor": 5
}
